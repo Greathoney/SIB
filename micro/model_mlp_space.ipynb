{
 "cells": [
  {
   "cell_type": "code",
   "execution_count": 2,
   "metadata": {},
   "outputs": [],
   "source": [
    "# set parameter and csv file path\n",
    "\n",
    "is_need_preprocessing = False\n",
    "csv_file_path = '../model/asdf_single_log_long_preprocessing.csv'\n",
    "file_name =  csv_file_path.split(\"/\")[-1]\n",
    "\n",
    "save_params = True"
   ]
  },
  {
   "cell_type": "code",
   "execution_count": 3,
   "metadata": {},
   "outputs": [],
   "source": [
    "# ignore warnings\n",
    "\n",
    "import warnings\n",
    "\n",
    "import pandas as pd\n",
    "from pandas.core.common import SettingWithCopyWarning\n",
    "\n",
    "warnings.simplefilter(action=\"ignore\", category=SettingWithCopyWarning)"
   ]
  },
  {
   "cell_type": "code",
   "execution_count": 4,
   "metadata": {
    "collapsed": true
   },
   "outputs": [],
   "source": [
    "import numpy as np\n",
    "import pandas as pd"
   ]
  },
  {
   "cell_type": "code",
   "execution_count": 5,
   "metadata": {
    "collapsed": false,
    "pycharm": {
     "name": "#%%\n"
    }
   },
   "outputs": [],
   "source": [
    "# asdf_single_space_log_preprocessing.csv를 이용해 데이터 전처리 과정을 스킵할 수 있음\n",
    "\n",
    "if is_need_preprocessing:\n",
    "\n",
    "    x_names = ['L%d%c' % (i, c) for i in range(21) for c in ['x', 'y', 'z']] \n",
    "    y_names = ['a', 's', 'd', 'f', 'None']\n",
    "\n",
    "    col_names = x_names + y_names\n",
    "\n",
    "    df = pd.read_csv(csv_file_path, names=col_names)\n",
    "    df.head()"
   ]
  },
  {
   "cell_type": "code",
   "execution_count": 6,
   "metadata": {
    "tags": []
   },
   "outputs": [],
   "source": [
    "# asdf_single_space_log_preprocessing.csv를 이용해 데이터 전처리 과정을 스킵할 수 있음\n",
    "\n",
    "if is_need_preprocessing:\n",
    "    y_names_origin = ['a', 's', 'd', 'f']\n",
    "\n",
    "    for row in range(len(df)):\n",
    "        df['None'].iloc[row] = 1\n",
    "        for value in df[y_names_origin].iloc[row]:\n",
    "            if value == 1:\n",
    "                df['None'].iloc[row] = 0\n",
    "                break"
   ]
  },
  {
   "cell_type": "code",
   "execution_count": 7,
   "metadata": {
    "collapsed": false,
    "pycharm": {
     "name": "#%%\n"
    }
   },
   "outputs": [],
   "source": [
    "# asdf_single_space_log_preprocessing.csv를 이용해 데이터 전처리 과정을 스킵할 수 있음\n",
    "\n",
    "if is_need_preprocessing:\n",
    "    import sys, os\n",
    "    sys.path.append(os.pardir)\n",
    "\n",
    "    from visualization.smoother import gamma_smoothing, average_smoothing\n",
    "\n",
    "    df = gamma_smoothing(df)  # takes about 1 min\n",
    "    # df = average_smoothing(df)\n",
    "    df.head()"
   ]
  },
  {
   "cell_type": "code",
   "execution_count": 8,
   "metadata": {
    "tags": []
   },
   "outputs": [],
   "source": [
    "# asdf_single_space_log_preprocessing.csv를 이용해 데이터 전처리 과정을 스킵할 수 있음\n",
    "# normalization, about 1 min\n",
    "\n",
    "if is_need_preprocessing:\n",
    "\tfrom sklearn.preprocessing import MinMaxScaler\n",
    "\tscaler = MinMaxScaler()\n",
    "\n",
    "\tfor column in x_names:\n",
    "\t\tdf_column = df[column]\n",
    "\t\tdf_column = df_column.values.reshape(-1, 1)\n",
    "\t\tdf_column = scaler.fit_transform(df_column)\n",
    "\n",
    "\t\tfor row in range(len(df)):\n",
    "\t\t\tdf[column].iloc[row] = df_column[row]\n"
   ]
  },
  {
   "cell_type": "code",
   "execution_count": 9,
   "metadata": {},
   "outputs": [],
   "source": [
    "# asdf_single_space_log_preprocessing.csv를 이용해 데이터 전처리 과정을 스킵할 수 있음\n",
    "# 원본 데이터 전처리 한 것 csv 로 저장\n",
    "\n",
    "if is_need_preprocessing:\n",
    "\n",
    "    import pandas as pd\n",
    "    from pandas import DataFrame\n",
    "\n",
    "    df.to_csv(csv_file_path.replace(\".csv\", \"_preprocessing.csv\"), sep=\",\", index=False, header=False)"
   ]
  },
  {
   "cell_type": "code",
   "execution_count": 10,
   "metadata": {},
   "outputs": [],
   "source": [
    "# asdf_single_space_log_preprocessing.csv를 이용해 전처리 과정 스킵하고 바로 불러오기\n",
    "\n",
    "if not is_need_preprocessing:\n",
    "    file_path = csv_file_path\n",
    "\n",
    "    x_names = ['L%d%c' % (i, c) for i in range(21) for c in ['x', 'y', 'z']] \n",
    "    y_names = ['a', 's', 'd', 'f', 'None']\n",
    "\n",
    "    col_names = x_names + y_names\n",
    "\n",
    "    df = pd.read_csv(csv_file_path, names=col_names)\n",
    "    df.head()\n"
   ]
  },
  {
   "cell_type": "code",
   "execution_count": 11,
   "metadata": {},
   "outputs": [],
   "source": [
    "# x, y split\n",
    "x, y = df[x_names], df[y_names]"
   ]
  },
  {
   "cell_type": "code",
   "execution_count": 12,
   "metadata": {},
   "outputs": [],
   "source": [
    "# train, test split\n",
    "train_test_ratio = 0.90\n",
    "\n",
    "train_num = int(len(df) * train_test_ratio)\n",
    "\n",
    "x_train, x_test = x[:train_num], x[train_num:]\n",
    "y_train, y_test = y[:train_num], y[train_num:]\n",
    "\n",
    "# train_test_ratio = 0.2\n",
    "\n",
    "# train_num = int(len(df) * 0.2)\n",
    "\n",
    "# x_train, x_test = x[train_num:], x[:train_num]\n",
    "# y_train, y_test = y[train_num:], y[:train_num]\n",
    "\n",
    "x_train_numpy = x_train.to_numpy()\n",
    "x_test_numpy = x_test.to_numpy()\n",
    "y_train_numpy = y_train.to_numpy()\n",
    "y_test_numpy = y_test.to_numpy()"
   ]
  },
  {
   "cell_type": "code",
   "execution_count": 13,
   "metadata": {},
   "outputs": [
    {
     "name": "stderr",
     "output_type": "stream",
     "text": [
      "2021-12-01 13:02:59.946697: W tensorflow/stream_executor/platform/default/dso_loader.cc:64] Could not load dynamic library 'libcudart.so.11.0'; dlerror: libcudart.so.11.0: cannot open shared object file: No such file or directory; LD_LIBRARY_PATH: /home/great/catkin_ws/devel/lib:/opt/ros/melodic/lib\n",
      "2021-12-01 13:02:59.946726: I tensorflow/stream_executor/cuda/cudart_stub.cc:29] Ignore above cudart dlerror if you do not have a GPU set up on your machine.\n",
      "2021-12-01 13:03:01.451309: I tensorflow/stream_executor/cuda/cuda_gpu_executor.cc:939] successful NUMA node read from SysFS had negative value (-1), but there must be at least one NUMA node, so returning NUMA node zero\n",
      "2021-12-01 13:03:01.451724: W tensorflow/stream_executor/platform/default/dso_loader.cc:64] Could not load dynamic library 'libcudart.so.11.0'; dlerror: libcudart.so.11.0: cannot open shared object file: No such file or directory; LD_LIBRARY_PATH: /home/great/catkin_ws/devel/lib:/opt/ros/melodic/lib\n",
      "2021-12-01 13:03:01.451823: W tensorflow/stream_executor/platform/default/dso_loader.cc:64] Could not load dynamic library 'libcublas.so.11'; dlerror: libcublas.so.11: cannot open shared object file: No such file or directory; LD_LIBRARY_PATH: /home/great/catkin_ws/devel/lib:/opt/ros/melodic/lib\n",
      "2021-12-01 13:03:01.451878: W tensorflow/stream_executor/platform/default/dso_loader.cc:64] Could not load dynamic library 'libcublasLt.so.11'; dlerror: libcublasLt.so.11: cannot open shared object file: No such file or directory; LD_LIBRARY_PATH: /home/great/catkin_ws/devel/lib:/opt/ros/melodic/lib\n",
      "2021-12-01 13:03:01.451932: W tensorflow/stream_executor/platform/default/dso_loader.cc:64] Could not load dynamic library 'libcufft.so.10'; dlerror: libcufft.so.10: cannot open shared object file: No such file or directory; LD_LIBRARY_PATH: /home/great/catkin_ws/devel/lib:/opt/ros/melodic/lib\n",
      "2021-12-01 13:03:01.451984: W tensorflow/stream_executor/platform/default/dso_loader.cc:64] Could not load dynamic library 'libcurand.so.10'; dlerror: libcurand.so.10: cannot open shared object file: No such file or directory; LD_LIBRARY_PATH: /home/great/catkin_ws/devel/lib:/opt/ros/melodic/lib\n",
      "2021-12-01 13:03:01.452036: W tensorflow/stream_executor/platform/default/dso_loader.cc:64] Could not load dynamic library 'libcusolver.so.11'; dlerror: libcusolver.so.11: cannot open shared object file: No such file or directory; LD_LIBRARY_PATH: /home/great/catkin_ws/devel/lib:/opt/ros/melodic/lib\n",
      "2021-12-01 13:03:01.452086: W tensorflow/stream_executor/platform/default/dso_loader.cc:64] Could not load dynamic library 'libcusparse.so.11'; dlerror: libcusparse.so.11: cannot open shared object file: No such file or directory; LD_LIBRARY_PATH: /home/great/catkin_ws/devel/lib:/opt/ros/melodic/lib\n",
      "2021-12-01 13:03:01.452137: W tensorflow/stream_executor/platform/default/dso_loader.cc:64] Could not load dynamic library 'libcudnn.so.8'; dlerror: libcudnn.so.8: cannot open shared object file: No such file or directory; LD_LIBRARY_PATH: /home/great/catkin_ws/devel/lib:/opt/ros/melodic/lib\n",
      "2021-12-01 13:03:01.452145: W tensorflow/core/common_runtime/gpu/gpu_device.cc:1850] Cannot dlopen some GPU libraries. Please make sure the missing libraries mentioned above are installed properly if you would like to use GPU. Follow the guide at https://www.tensorflow.org/install/gpu for how to download and setup the required libraries for your platform.\n",
      "Skipping registering GPU devices...\n",
      "2021-12-01 13:03:01.452715: I tensorflow/core/platform/cpu_feature_guard.cc:151] This TensorFlow binary is optimized with oneAPI Deep Neural Network Library (oneDNN) to use the following CPU instructions in performance-critical operations:  AVX2 AVX512F FMA\n",
      "To enable them in other operations, rebuild TensorFlow with the appropriate compiler flags.\n"
     ]
    }
   ],
   "source": [
    "# apply mlp\n",
    "\n",
    "import tensorflow as tf\n",
    "from tensorflow import keras\n",
    "\n",
    "model = tf.keras.models.Sequential([\n",
    "    keras.layers.Dense(32, activation='relu', input_shape=(63,)),\n",
    "    # keras.layers.Dropout(0.2),\n",
    "    keras.layers.Dense(10, activation='relu'),\n",
    "    keras.layers.Dense(5, activation='softmax')\n",
    "  ])\n",
    "\n",
    "model.compile(optimizer='adam',\n",
    "                loss=tf.losses.CategoricalCrossentropy(),\n",
    "                metrics=['accuracy'])\n"
   ]
  },
  {
   "cell_type": "code",
   "execution_count": 14,
   "metadata": {
    "tags": []
   },
   "outputs": [
    {
     "name": "stdout",
     "output_type": "stream",
     "text": [
      "Epoch 1/100\n",
      "127/127 [==============================] - 1s 893us/step - loss: 1.4404 - accuracy: 0.4250\n",
      "Epoch 2/100\n",
      "127/127 [==============================] - 0s 1ms/step - loss: 1.0836 - accuracy: 0.5959\n",
      "Epoch 3/100\n",
      "127/127 [==============================] - 0s 926us/step - loss: 0.8115 - accuracy: 0.7569\n",
      "Epoch 4/100\n",
      "127/127 [==============================] - 0s 928us/step - loss: 0.6187 - accuracy: 0.8294\n",
      "Epoch 5/100\n",
      "127/127 [==============================] - 0s 1ms/step - loss: 0.5174 - accuracy: 0.8555\n",
      "Epoch 6/100\n",
      "127/127 [==============================] - 0s 972us/step - loss: 0.4572 - accuracy: 0.8676\n",
      "Epoch 7/100\n",
      "127/127 [==============================] - 0s 1ms/step - loss: 0.4274 - accuracy: 0.8696\n",
      "Epoch 8/100\n",
      "127/127 [==============================] - 0s 936us/step - loss: 0.4019 - accuracy: 0.8785\n",
      "Epoch 9/100\n",
      "127/127 [==============================] - 0s 1ms/step - loss: 0.3876 - accuracy: 0.8787\n",
      "Epoch 10/100\n",
      "127/127 [==============================] - 0s 1ms/step - loss: 0.3728 - accuracy: 0.8854\n",
      "Epoch 11/100\n",
      "127/127 [==============================] - 0s 1ms/step - loss: 0.3654 - accuracy: 0.8881\n",
      "Epoch 12/100\n",
      "127/127 [==============================] - 0s 1ms/step - loss: 0.3587 - accuracy: 0.8868\n",
      "Epoch 13/100\n",
      "127/127 [==============================] - 0s 1ms/step - loss: 0.3510 - accuracy: 0.8868\n",
      "Epoch 14/100\n",
      "127/127 [==============================] - 0s 1ms/step - loss: 0.3483 - accuracy: 0.8900\n",
      "Epoch 15/100\n",
      "127/127 [==============================] - 0s 1ms/step - loss: 0.3409 - accuracy: 0.8923\n",
      "Epoch 16/100\n",
      "127/127 [==============================] - 0s 1ms/step - loss: 0.3371 - accuracy: 0.8937\n",
      "Epoch 17/100\n",
      "127/127 [==============================] - 0s 1ms/step - loss: 0.3365 - accuracy: 0.8920\n",
      "Epoch 18/100\n",
      "127/127 [==============================] - 0s 1ms/step - loss: 0.3326 - accuracy: 0.8915\n",
      "Epoch 19/100\n",
      "127/127 [==============================] - 0s 1ms/step - loss: 0.3284 - accuracy: 0.8950\n",
      "Epoch 20/100\n",
      "127/127 [==============================] - 0s 1ms/step - loss: 0.3218 - accuracy: 0.8950\n",
      "Epoch 21/100\n",
      "127/127 [==============================] - 0s 1ms/step - loss: 0.3221 - accuracy: 0.8942\n",
      "Epoch 22/100\n",
      "127/127 [==============================] - 0s 859us/step - loss: 0.3208 - accuracy: 0.8967\n",
      "Epoch 23/100\n",
      "127/127 [==============================] - 0s 892us/step - loss: 0.3121 - accuracy: 0.8987\n",
      "Epoch 24/100\n",
      "127/127 [==============================] - 0s 1ms/step - loss: 0.3122 - accuracy: 0.8957\n",
      "Epoch 25/100\n",
      "127/127 [==============================] - 0s 848us/step - loss: 0.3103 - accuracy: 0.8984\n",
      "Epoch 26/100\n",
      "127/127 [==============================] - 0s 1ms/step - loss: 0.3134 - accuracy: 0.8977\n",
      "Epoch 27/100\n",
      "127/127 [==============================] - 0s 1ms/step - loss: 0.3058 - accuracy: 0.8979\n",
      "Epoch 28/100\n",
      "127/127 [==============================] - 0s 814us/step - loss: 0.3065 - accuracy: 0.8992\n",
      "Epoch 29/100\n",
      "127/127 [==============================] - 0s 1ms/step - loss: 0.3021 - accuracy: 0.9006\n",
      "Epoch 30/100\n",
      "127/127 [==============================] - 0s 882us/step - loss: 0.3016 - accuracy: 0.9004\n",
      "Epoch 31/100\n",
      "127/127 [==============================] - 0s 1ms/step - loss: 0.2998 - accuracy: 0.8997\n",
      "Epoch 32/100\n",
      "127/127 [==============================] - 0s 975us/step - loss: 0.3016 - accuracy: 0.9036\n",
      "Epoch 33/100\n",
      "127/127 [==============================] - 0s 871us/step - loss: 0.2992 - accuracy: 0.9019\n",
      "Epoch 34/100\n",
      "127/127 [==============================] - 0s 1ms/step - loss: 0.3010 - accuracy: 0.9016\n",
      "Epoch 35/100\n",
      "127/127 [==============================] - 0s 1ms/step - loss: 0.2993 - accuracy: 0.9001\n",
      "Epoch 36/100\n",
      "127/127 [==============================] - 0s 1ms/step - loss: 0.2931 - accuracy: 0.9038\n",
      "Epoch 37/100\n",
      "127/127 [==============================] - 0s 2ms/step - loss: 0.2901 - accuracy: 0.9034\n",
      "Epoch 38/100\n",
      "127/127 [==============================] - 0s 2ms/step - loss: 0.2920 - accuracy: 0.9029\n",
      "Epoch 39/100\n",
      "127/127 [==============================] - 0s 2ms/step - loss: 0.2935 - accuracy: 0.9024\n",
      "Epoch 40/100\n",
      "127/127 [==============================] - 0s 2ms/step - loss: 0.2917 - accuracy: 0.9058\n",
      "Epoch 41/100\n",
      "127/127 [==============================] - 0s 2ms/step - loss: 0.2877 - accuracy: 0.9043\n",
      "Epoch 42/100\n",
      "127/127 [==============================] - 0s 2ms/step - loss: 0.2932 - accuracy: 0.9036\n",
      "Epoch 43/100\n",
      "127/127 [==============================] - 0s 1ms/step - loss: 0.2880 - accuracy: 0.9036\n",
      "Epoch 44/100\n",
      "127/127 [==============================] - 0s 1ms/step - loss: 0.2882 - accuracy: 0.9024\n",
      "Epoch 45/100\n",
      "127/127 [==============================] - 0s 1ms/step - loss: 0.2876 - accuracy: 0.9053\n",
      "Epoch 46/100\n",
      "127/127 [==============================] - 0s 854us/step - loss: 0.2837 - accuracy: 0.9090\n",
      "Epoch 47/100\n",
      "127/127 [==============================] - 0s 1ms/step - loss: 0.2843 - accuracy: 0.9038\n",
      "Epoch 48/100\n",
      "127/127 [==============================] - 0s 2ms/step - loss: 0.2845 - accuracy: 0.9066\n",
      "Epoch 49/100\n",
      "127/127 [==============================] - 0s 945us/step - loss: 0.2798 - accuracy: 0.9061\n",
      "Epoch 50/100\n",
      "127/127 [==============================] - 0s 2ms/step - loss: 0.2809 - accuracy: 0.9110\n",
      "Epoch 51/100\n",
      "127/127 [==============================] - 0s 1ms/step - loss: 0.2813 - accuracy: 0.9071\n",
      "Epoch 52/100\n",
      "127/127 [==============================] - 0s 1ms/step - loss: 0.2789 - accuracy: 0.9083\n",
      "Epoch 53/100\n",
      "127/127 [==============================] - 0s 2ms/step - loss: 0.2835 - accuracy: 0.9043\n",
      "Epoch 54/100\n",
      "127/127 [==============================] - 0s 2ms/step - loss: 0.2803 - accuracy: 0.9068\n",
      "Epoch 55/100\n",
      "127/127 [==============================] - 0s 1ms/step - loss: 0.2831 - accuracy: 0.9068\n",
      "Epoch 56/100\n",
      "127/127 [==============================] - 0s 1ms/step - loss: 0.2778 - accuracy: 0.9075\n",
      "Epoch 57/100\n",
      "127/127 [==============================] - 0s 2ms/step - loss: 0.2752 - accuracy: 0.9063\n",
      "Epoch 58/100\n",
      "127/127 [==============================] - 0s 2ms/step - loss: 0.2783 - accuracy: 0.9043\n",
      "Epoch 59/100\n",
      "127/127 [==============================] - 0s 2ms/step - loss: 0.2756 - accuracy: 0.9080\n",
      "Epoch 60/100\n",
      "127/127 [==============================] - 0s 2ms/step - loss: 0.2790 - accuracy: 0.9083\n",
      "Epoch 61/100\n",
      "127/127 [==============================] - 0s 1ms/step - loss: 0.2755 - accuracy: 0.9068\n",
      "Epoch 62/100\n",
      "127/127 [==============================] - 0s 1ms/step - loss: 0.2725 - accuracy: 0.9098\n",
      "Epoch 63/100\n",
      "127/127 [==============================] - 0s 2ms/step - loss: 0.2731 - accuracy: 0.9117\n",
      "Epoch 64/100\n",
      "127/127 [==============================] - 0s 2ms/step - loss: 0.2720 - accuracy: 0.9093\n",
      "Epoch 65/100\n",
      "127/127 [==============================] - 0s 2ms/step - loss: 0.2720 - accuracy: 0.9073\n",
      "Epoch 66/100\n",
      "127/127 [==============================] - 0s 2ms/step - loss: 0.2774 - accuracy: 0.9063\n",
      "Epoch 67/100\n",
      "127/127 [==============================] - 0s 2ms/step - loss: 0.2738 - accuracy: 0.9073\n",
      "Epoch 68/100\n",
      "127/127 [==============================] - 0s 1ms/step - loss: 0.2724 - accuracy: 0.9066\n",
      "Epoch 69/100\n",
      "127/127 [==============================] - 0s 1ms/step - loss: 0.2691 - accuracy: 0.9112\n",
      "Epoch 70/100\n",
      "127/127 [==============================] - 0s 1ms/step - loss: 0.2700 - accuracy: 0.9098\n",
      "Epoch 71/100\n",
      "127/127 [==============================] - 0s 1ms/step - loss: 0.2684 - accuracy: 0.9105\n",
      "Epoch 72/100\n",
      "127/127 [==============================] - 0s 1ms/step - loss: 0.2693 - accuracy: 0.9125\n",
      "Epoch 73/100\n",
      "127/127 [==============================] - 0s 1ms/step - loss: 0.2647 - accuracy: 0.9120\n",
      "Epoch 74/100\n",
      "127/127 [==============================] - 0s 1ms/step - loss: 0.2704 - accuracy: 0.9105\n",
      "Epoch 75/100\n",
      "127/127 [==============================] - 0s 1ms/step - loss: 0.2684 - accuracy: 0.9115\n",
      "Epoch 76/100\n",
      "127/127 [==============================] - 0s 1ms/step - loss: 0.2684 - accuracy: 0.9103\n",
      "Epoch 77/100\n",
      "127/127 [==============================] - 0s 1ms/step - loss: 0.2662 - accuracy: 0.9100\n",
      "Epoch 78/100\n",
      "127/127 [==============================] - 0s 1ms/step - loss: 0.2677 - accuracy: 0.9100\n",
      "Epoch 79/100\n",
      "127/127 [==============================] - 0s 1ms/step - loss: 0.2673 - accuracy: 0.9115\n",
      "Epoch 80/100\n",
      "127/127 [==============================] - 0s 1ms/step - loss: 0.2633 - accuracy: 0.9110\n",
      "Epoch 81/100\n",
      "127/127 [==============================] - 0s 1ms/step - loss: 0.2644 - accuracy: 0.9122\n",
      "Epoch 82/100\n",
      "127/127 [==============================] - 0s 1ms/step - loss: 0.2652 - accuracy: 0.9115\n",
      "Epoch 83/100\n",
      "127/127 [==============================] - 0s 1ms/step - loss: 0.2619 - accuracy: 0.9117\n",
      "Epoch 84/100\n",
      "127/127 [==============================] - 0s 1ms/step - loss: 0.2621 - accuracy: 0.9093\n",
      "Epoch 85/100\n",
      "127/127 [==============================] - 0s 1ms/step - loss: 0.2617 - accuracy: 0.9110\n",
      "Epoch 86/100\n",
      "127/127 [==============================] - 0s 1ms/step - loss: 0.2641 - accuracy: 0.9125\n",
      "Epoch 87/100\n",
      "127/127 [==============================] - 0s 1ms/step - loss: 0.2637 - accuracy: 0.9098\n",
      "Epoch 88/100\n",
      "127/127 [==============================] - 0s 1ms/step - loss: 0.2630 - accuracy: 0.9140\n",
      "Epoch 89/100\n",
      "127/127 [==============================] - 0s 1ms/step - loss: 0.2665 - accuracy: 0.9095\n",
      "Epoch 90/100\n",
      "127/127 [==============================] - 0s 1ms/step - loss: 0.2613 - accuracy: 0.9125\n",
      "Epoch 91/100\n",
      "127/127 [==============================] - 0s 1ms/step - loss: 0.2574 - accuracy: 0.9137\n",
      "Epoch 92/100\n",
      "127/127 [==============================] - 0s 1ms/step - loss: 0.2616 - accuracy: 0.9090\n",
      "Epoch 93/100\n",
      "127/127 [==============================] - 0s 1ms/step - loss: 0.2623 - accuracy: 0.9122\n",
      "Epoch 94/100\n",
      "127/127 [==============================] - 0s 1ms/step - loss: 0.2600 - accuracy: 0.9100\n",
      "Epoch 95/100\n",
      "127/127 [==============================] - 0s 1ms/step - loss: 0.2594 - accuracy: 0.9117\n",
      "Epoch 96/100\n",
      "127/127 [==============================] - 0s 1ms/step - loss: 0.2573 - accuracy: 0.9135\n",
      "Epoch 97/100\n",
      "127/127 [==============================] - 0s 1ms/step - loss: 0.2581 - accuracy: 0.9130\n",
      "Epoch 98/100\n",
      "127/127 [==============================] - 0s 1ms/step - loss: 0.2605 - accuracy: 0.9088\n",
      "Epoch 99/100\n",
      "127/127 [==============================] - 0s 1ms/step - loss: 0.2571 - accuracy: 0.9127\n",
      "Epoch 100/100\n",
      "127/127 [==============================] - 0s 1ms/step - loss: 0.2578 - accuracy: 0.9125\n",
      "15/15 - 0s - loss: 0.3915 - accuracy: 0.9113 - 115ms/epoch - 8ms/step\n"
     ]
    },
    {
     "data": {
      "text/plain": [
       "[0.3915104269981384, 0.911308228969574]"
      ]
     },
     "execution_count": 14,
     "metadata": {},
     "output_type": "execute_result"
    }
   ],
   "source": [
    "model.fit(x_train, y_train, epochs=100)\n",
    "\n",
    "model.evaluate(x_test, y_test, verbose=2)"
   ]
  },
  {
   "cell_type": "code",
   "execution_count": 15,
   "metadata": {},
   "outputs": [],
   "source": [
    "model.save('model_mlp_space.h5')"
   ]
  },
  {
   "cell_type": "code",
   "execution_count": 16,
   "metadata": {},
   "outputs": [],
   "source": [
    "predict = model.predict(x_test)"
   ]
  },
  {
   "cell_type": "code",
   "execution_count": 17,
   "metadata": {},
   "outputs": [
    {
     "data": {
      "text/plain": [
       "<tf.Tensor: shape=(5, 5), dtype=int32, numpy=\n",
       "array([[ 60,   0,   0,   2,   1],\n",
       "       [  0,  62,   0,   0,   3],\n",
       "       [  0,   1, 145,   0,   3],\n",
       "       [  0,   0,   1, 123,   5],\n",
       "       [  2,   7,   8,   7,  21]], dtype=int32)>"
      ]
     },
     "execution_count": 17,
     "metadata": {},
     "output_type": "execute_result"
    }
   ],
   "source": [
    "\n",
    "conf_predict = []\n",
    "conf_y_test = []\n",
    "\n",
    "for i in range(len(predict)):\n",
    "    conf_predict.append(predict[i].argmax())\n",
    "    conf_y_test.append(y_test_numpy[i].argmax())\n",
    "\n",
    "tf.math.confusion_matrix(conf_y_test, conf_predict)"
   ]
  },
  {
   "cell_type": "code",
   "execution_count": 18,
   "metadata": {},
   "outputs": [
    {
     "data": {
      "image/png": "[encoded data removed]",
      "text/plain": [
       "<Figure size 720x432 with 5 Axes>"
      ]
     },
     "metadata": {
      "needs_background": "light"
     },
     "output_type": "display_data"
    }
   ],
   "source": [
    "import matplotlib.pyplot as plt\n",
    "\n",
    "size = len(y_test)\n",
    "\n",
    "fig = plt.figure(figsize=(10,6))\n",
    "\n",
    "keys = [('r', \"a\"), ('g', \"s\"), ('b', \"d\"), ('c', \"f\"), ('k', \"None\")]\n",
    "\n",
    "for i, (color, key_class) in enumerate(keys):\n",
    "    k = fig.add_subplot(2,3,i+1)\n",
    "    k.set_title(key_class)\n",
    "    k.plot(range(size), y_test[key_class], color+'--')\n",
    "    k.plot(range(size), predict[:,i], color) \n",
    "\n",
    "plt.tight_layout()\n",
    "plt.show()"
   ]
  },
  {
   "cell_type": "code",
   "execution_count": 19,
   "metadata": {},
   "outputs": [],
   "source": [
    "def up_sensivity(data, sensivity=2):\n",
    "\n",
    "    denominator = (sensivity * sum(data) - (sensivity - 1)* data[4])\n",
    "    \n",
    "    data[0], data[1], data[2], data[3], data[4] = (\n",
    "    sensivity * data[0] / denominator,\n",
    "    sensivity * data[1] / denominator,\n",
    "    sensivity * data[2] / denominator,\n",
    "    sensivity * data[3] / denominator,\n",
    "    data[4] / denominator\n",
    "    )\n",
    "\n",
    "    return data\n",
    "    "
   ]
  },
  {
   "cell_type": "code",
   "execution_count": 20,
   "metadata": {},
   "outputs": [],
   "source": [
    "for row in range(len(predict)):\n",
    "    predict[row] = up_sensivity(predict[row], 3)"
   ]
  },
  {
   "cell_type": "code",
   "execution_count": 21,
   "metadata": {},
   "outputs": [
    {
     "data": {
      "text/plain": [
       "<tf.Tensor: shape=(5, 5), dtype=int32, numpy=\n",
       "array([[ 60,   0,   0,   3,   0],\n",
       "       [  0,  64,   0,   0,   1],\n",
       "       [  0,   1, 147,   0,   1],\n",
       "       [  0,   0,   3, 126,   0],\n",
       "       [  3,  12,  14,   8,   8]], dtype=int32)>"
      ]
     },
     "execution_count": 21,
     "metadata": {},
     "output_type": "execute_result"
    }
   ],
   "source": [
    "for row in range(len(predict)):\n",
    "    predict[row] = up_sensivity(predict[row], 3)\n",
    "\n",
    "    \n",
    "conf_predict = []\n",
    "conf_y_test = []\n",
    "\n",
    "for i in range(len(predict)):\n",
    "    conf_predict.append(predict[i].argmax())\n",
    "    conf_y_test.append(y_test_numpy[i].argmax())\n",
    "\n",
    "tf.math.confusion_matrix(conf_y_test, conf_predict)"
   ]
  },
  {
   "cell_type": "code",
   "execution_count": 22,
   "metadata": {},
   "outputs": [
    {
     "data": {
      "image/png": "[encoded data removed]",
      "text/plain": [
       "<Figure size 720x432 with 5 Axes>"
      ]
     },
     "metadata": {
      "needs_background": "light"
     },
     "output_type": "display_data"
    }
   ],
   "source": [
    "import matplotlib.pyplot as plt\n",
    "\n",
    "size = len(y_test)\n",
    "\n",
    "fig = plt.figure(figsize=(10,6))\n",
    "\n",
    "keys = [('r', \"a\"), ('g', \"s\"), ('b', \"d\"), ('c', \"f\"), ('k', \"None\")]\n",
    "\n",
    "for i, (color, key_class) in enumerate(keys):\n",
    "    k = fig.add_subplot(2,3,i+1)\n",
    "    k.set_title(key_class)\n",
    "    k.plot(range(size), y_test[key_class], color+'--')\n",
    "    k.plot(range(size), predict[:,i], color) \n",
    "\n",
    "plt.tight_layout()\n",
    "plt.show()"
   ]
  },
  {
   "cell_type": "code",
   "execution_count": 23,
   "metadata": {},
   "outputs": [
    {
     "name": "stderr",
     "output_type": "stream",
     "text": [
      "2021-12-01 13:11:44.969354: W tensorflow/python/util/util.cc:368] Sets are not currently considered sequences, but this may change in the future, so consider avoiding using them.\n"
     ]
    },
    {
     "name": "stdout",
     "output_type": "stream",
     "text": [
      "INFO:tensorflow:Assets written to: /tmp/tmp21a9j72q/assets\n"
     ]
    },
    {
     "name": "stderr",
     "output_type": "stream",
     "text": [
      "2021-12-01 13:11:46.004387: W tensorflow/compiler/mlir/lite/python/tf_tfl_flatbuffer_helpers.cc:363] Ignored output_format.\n",
      "2021-12-01 13:11:46.004458: W tensorflow/compiler/mlir/lite/python/tf_tfl_flatbuffer_helpers.cc:366] Ignored drop_control_dependency.\n",
      "2021-12-01 13:11:46.006877: I tensorflow/cc/saved_model/reader.cc:43] Reading SavedModel from: /tmp/tmp21a9j72q\n",
      "2021-12-01 13:11:46.010372: I tensorflow/cc/saved_model/reader.cc:107] Reading meta graph with tags { serve }\n",
      "2021-12-01 13:11:46.010431: I tensorflow/cc/saved_model/reader.cc:148] Reading SavedModel debug info (if present) from: /tmp/tmp21a9j72q\n",
      "2021-12-01 13:11:46.020279: I tensorflow/cc/saved_model/loader.cc:210] Restoring SavedModel bundle.\n",
      "2021-12-01 13:11:46.095903: I tensorflow/cc/saved_model/loader.cc:194] Running initialization op on SavedModel bundle at path: /tmp/tmp21a9j72q\n",
      "2021-12-01 13:11:46.116650: I tensorflow/cc/saved_model/loader.cc:283] SavedModel load for tags { serve }; Status: success: OK. Took 109924 microseconds.\n",
      "2021-12-01 13:11:46.146410: I tensorflow/compiler/mlir/tensorflow/utils/dump_mlir_util.cc:237] disabling MLIRWARNING:absl:Buffer deduplication procedure will be skipped when flatbuffer library is not properly loaded\n",
      " crash reproducer, set env var `MLIR_CRASH_REPRODUCER_DIRECTORY` to enable.\n"
     ]
    }
   ],
   "source": [
    "converter = tf.lite.TFLiteConverter.from_keras_model(model)\n",
    "tflite_model = converter.convert()"
   ]
  },
  {
   "cell_type": "code",
   "execution_count": null,
   "metadata": {},
   "outputs": [],
   "source": []
  }
 ],
 "metadata": {
  "interpreter": {
   "hash": "e053ccbbd77089a38f384c247733de2399dbe33c2efc5d2b2054b0384dbd16a9"
  },
  "kernelspec": {
   "display_name": "Python 3.8.10 64-bit ('sib': conda)",
   "name": "python3"
  },
  "language_info": {
   "codemirror_mode": {
    "name": "ipython",
    "version": 3
   },
   "file_extension": ".py",
   "mimetype": "text/x-python",
   "name": "python",
   "nbconvert_exporter": "python",
   "pygments_lexer": "ipython3",
   "version": "3.8.12"
  },
  "metadata": {
   "interpreter": {
    "hash": "e053ccbbd77089a38f384c247733de2399dbe33c2efc5d2b2054b0384dbd16a9"
   }
  }
 },
 "nbformat": 4,
 "nbformat_minor": 0
}
