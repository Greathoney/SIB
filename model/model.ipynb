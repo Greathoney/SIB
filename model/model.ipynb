{
 "cells": [
  {
   "cell_type": "code",
   "execution_count": 7,
   "metadata": {
    "collapsed": true
   },
   "outputs": [],
   "source": [
    "import numpy as np\n",
    "import pandas as pd"
   ]
  },
  {
   "cell_type": "code",
   "execution_count": 9,
   "outputs": [],
   "source": [
    "file_path = 'asdf_single_log.csv'\n",
    "\n",
    "x_names = ['L%d%c' % (i, c) for i in range(21) for c in ['x', 'y', 'z']] \n",
    "y_names = ['a', 's', 'd', 'f']\n",
    "\n",
    "col_names = x_names + y_names\n",
    "\n",
    "df = pd.read_csv(file_path, names=col_names)"
   ],
   "metadata": {
    "collapsed": false,
    "pycharm": {
     "name": "#%%\n"
    }
   }
  },
  {
   "cell_type": "code",
   "execution_count": 10,
   "outputs": [
    {
     "output_type": "execute_result",
     "data": {
      "text/plain": [
       "        L0x       L0y       L0z       L1x       L1y       L1z       L2x  \\\n",
       "0  0.784137  0.571423 -0.000070  0.717472  0.588176 -0.019694  0.677530   \n",
       "1  0.788276  0.570284 -0.000059  0.716185  0.588995 -0.011217  0.675919   \n",
       "2  0.786306  0.569776 -0.000071  0.715083  0.587393 -0.018008  0.674956   \n",
       "3  0.785780  0.570257 -0.000058  0.715375  0.589984 -0.015940  0.675341   \n",
       "4  0.785705  0.572603 -0.000063  0.715555  0.591844 -0.016335  0.675516   \n",
       "\n",
       "        L2y       L2z       L3x  ...      L19x      L19y      L19z      L20x  \\\n",
       "0  0.638703 -0.053698  0.655191  ...  0.797597  0.840377 -0.125986  0.778810   \n",
       "1  0.639470 -0.042548  0.655003  ...  0.798719  0.844294 -0.125256  0.780763   \n",
       "2  0.636717 -0.051495  0.653109  ...  0.796915  0.841617 -0.119656  0.779967   \n",
       "3  0.638634 -0.047662  0.654607  ...  0.802901  0.838399 -0.119746  0.787253   \n",
       "4  0.641593 -0.049657  0.653885  ...  0.805067  0.837749 -0.123455  0.791014   \n",
       "\n",
       "       L20y      L20z  a  s  d  f  \n",
       "0  0.874677 -0.121082  0  0  0  0  \n",
       "1  0.876653 -0.116899  0  0  0  0  \n",
       "2  0.873632 -0.110956  0  0  0  0  \n",
       "3  0.870319 -0.111778  0  0  0  0  \n",
       "4  0.870493 -0.115880  0  0  0  0  \n",
       "\n",
       "[5 rows x 67 columns]"
      ],
      "text/html": "<div>\n<style scoped>\n    .dataframe tbody tr th:only-of-type {\n        vertical-align: middle;\n    }\n\n    .dataframe tbody tr th {\n        vertical-align: top;\n    }\n\n    .dataframe thead th {\n        text-align: right;\n    }\n</style>\n<table border=\"1\" class=\"dataframe\">\n  <thead>\n    <tr style=\"text-align: right;\">\n      <th></th>\n      <th>L0x</th>\n      <th>L0y</th>\n      <th>L0z</th>\n      <th>L1x</th>\n      <th>L1y</th>\n      <th>L1z</th>\n      <th>L2x</th>\n      <th>L2y</th>\n      <th>L2z</th>\n      <th>L3x</th>\n      <th>...</th>\n      <th>L19x</th>\n      <th>L19y</th>\n      <th>L19z</th>\n      <th>L20x</th>\n      <th>L20y</th>\n      <th>L20z</th>\n      <th>a</th>\n      <th>s</th>\n      <th>d</th>\n      <th>f</th>\n    </tr>\n  </thead>\n  <tbody>\n    <tr>\n      <th>0</th>\n      <td>0.784137</td>\n      <td>0.571423</td>\n      <td>-0.000070</td>\n      <td>0.717472</td>\n      <td>0.588176</td>\n      <td>-0.019694</td>\n      <td>0.677530</td>\n      <td>0.638703</td>\n      <td>-0.053698</td>\n      <td>0.655191</td>\n      <td>...</td>\n      <td>0.797597</td>\n      <td>0.840377</td>\n      <td>-0.125986</td>\n      <td>0.778810</td>\n      <td>0.874677</td>\n      <td>-0.121082</td>\n      <td>0</td>\n      <td>0</td>\n      <td>0</td>\n      <td>0</td>\n    </tr>\n    <tr>\n      <th>1</th>\n      <td>0.788276</td>\n      <td>0.570284</td>\n      <td>-0.000059</td>\n      <td>0.716185</td>\n      <td>0.588995</td>\n      <td>-0.011217</td>\n      <td>0.675919</td>\n      <td>0.639470</td>\n      <td>-0.042548</td>\n      <td>0.655003</td>\n      <td>...</td>\n      <td>0.798719</td>\n      <td>0.844294</td>\n      <td>-0.125256</td>\n      <td>0.780763</td>\n      <td>0.876653</td>\n      <td>-0.116899</td>\n      <td>0</td>\n      <td>0</td>\n      <td>0</td>\n      <td>0</td>\n    </tr>\n    <tr>\n      <th>2</th>\n      <td>0.786306</td>\n      <td>0.569776</td>\n      <td>-0.000071</td>\n      <td>0.715083</td>\n      <td>0.587393</td>\n      <td>-0.018008</td>\n      <td>0.674956</td>\n      <td>0.636717</td>\n      <td>-0.051495</td>\n      <td>0.653109</td>\n      <td>...</td>\n      <td>0.796915</td>\n      <td>0.841617</td>\n      <td>-0.119656</td>\n      <td>0.779967</td>\n      <td>0.873632</td>\n      <td>-0.110956</td>\n      <td>0</td>\n      <td>0</td>\n      <td>0</td>\n      <td>0</td>\n    </tr>\n    <tr>\n      <th>3</th>\n      <td>0.785780</td>\n      <td>0.570257</td>\n      <td>-0.000058</td>\n      <td>0.715375</td>\n      <td>0.589984</td>\n      <td>-0.015940</td>\n      <td>0.675341</td>\n      <td>0.638634</td>\n      <td>-0.047662</td>\n      <td>0.654607</td>\n      <td>...</td>\n      <td>0.802901</td>\n      <td>0.838399</td>\n      <td>-0.119746</td>\n      <td>0.787253</td>\n      <td>0.870319</td>\n      <td>-0.111778</td>\n      <td>0</td>\n      <td>0</td>\n      <td>0</td>\n      <td>0</td>\n    </tr>\n    <tr>\n      <th>4</th>\n      <td>0.785705</td>\n      <td>0.572603</td>\n      <td>-0.000063</td>\n      <td>0.715555</td>\n      <td>0.591844</td>\n      <td>-0.016335</td>\n      <td>0.675516</td>\n      <td>0.641593</td>\n      <td>-0.049657</td>\n      <td>0.653885</td>\n      <td>...</td>\n      <td>0.805067</td>\n      <td>0.837749</td>\n      <td>-0.123455</td>\n      <td>0.791014</td>\n      <td>0.870493</td>\n      <td>-0.115880</td>\n      <td>0</td>\n      <td>0</td>\n      <td>0</td>\n      <td>0</td>\n    </tr>\n  </tbody>\n</table>\n<p>5 rows × 67 columns</p>\n</div>"
     },
     "metadata": {},
     "execution_count": 10
    }
   ],
   "source": [
    "df.head()"
   ],
   "metadata": {
    "collapsed": false,
    "pycharm": {
     "name": "#%%\n"
    }
   }
  },
  {
   "cell_type": "code",
   "execution_count": 11,
   "outputs": [],
   "source": [
    "import sys, os\n",
    "sys.path.append(os.pardir)\n",
    "\n",
    "from visualization.smoother import gamma_smoothing, average_smoothing"
   ],
   "metadata": {
    "collapsed": false,
    "pycharm": {
     "name": "#%%\n"
    }
   }
  },
  {
   "cell_type": "code",
   "execution_count": 12,
   "metadata": {},
   "outputs": [
    {
     "output_type": "stream",
     "name": "stderr",
     "text": [
      "C:\\Users\\honey\\anaconda3\\envs\\sib\\lib\\site-packages\\pandas\\core\\indexing.py:1637: SettingWithCopyWarning: \nA value is trying to be set on a copy of a slice from a DataFrame\n\nSee the caveats in the documentation: https://pandas.pydata.org/pandas-docs/stable/user_guide/indexing.html#returning-a-view-versus-a-copy\n  self._setitem_single_block(indexer, value, name)\n"
     ]
    }
   ],
   "source": [
    "df = gamma_smoothing(df)"
   ]
  },
  {
   "cell_type": "code",
   "execution_count": null,
   "metadata": {},
   "outputs": [],
   "source": []
  }
 ],
 "metadata": {
  "kernelspec": {
   "name": "python3810jvsc74a57bd0e053ccbbd77089a38f384c247733de2399dbe33c2efc5d2b2054b0384dbd16a9",
   "display_name": "Python 3.8.10 64-bit ('sib': conda)"
  },
  "language_info": {
   "codemirror_mode": {
    "name": "ipython",
    "version": 2
   },
   "file_extension": ".py",
   "mimetype": "text/x-python",
   "name": "python",
   "nbconvert_exporter": "python",
   "pygments_lexer": "ipython2",
   "version": "3.8.10"
  },
  "metadata": {
   "interpreter": {
    "hash": "e053ccbbd77089a38f384c247733de2399dbe33c2efc5d2b2054b0384dbd16a9"
   }
  }
 },
 "nbformat": 4,
 "nbformat_minor": 0
}