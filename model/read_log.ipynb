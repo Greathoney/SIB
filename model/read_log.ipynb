{
 "cells": [
  {
   "cell_type": "code",
   "execution_count": 7,
   "metadata": {
    "collapsed": true
   },
   "outputs": [],
   "source": [
    "import numpy as np\n",
    "import pandas as pd\n"
   ]
  },
  {
   "cell_type": "code",
   "execution_count": 13,
   "outputs": [],
   "source": [
    "df = pd.read_csv(\"../dataset/log.csv\")"
   ],
   "metadata": {
    "collapsed": false,
    "pycharm": {
     "name": "#%%\n"
    }
   }
  },
  {
   "cell_type": "code",
   "execution_count": 14,
   "outputs": [
    {
     "data": {
      "text/plain": "   0.457555  Unnamed: 1  Unnamed: 2  Unnamed: 3  Unnamed: 4  Unnamed: 5  \\\n0  0.530661         NaN         NaN         NaN         NaN         NaN   \n1  0.584577         NaN         NaN         NaN         NaN         NaN   \n2  0.652668         NaN         NaN         NaN         NaN         NaN   \n3  0.720136         NaN         NaN         NaN         NaN         NaN   \n4  0.784263         NaN         NaN         NaN         NaN         NaN   \n\n   Unnamed: 6  Unnamed: 7  Unnamed: 8  Unnamed: 9  ...  0.736559  -0.256245  \\\n0         NaN         NaN         NaN         NaN  ...  0.727248  -0.246744   \n1         NaN         NaN         NaN         NaN  ...  0.742769  -0.262422   \n2         NaN         NaN         NaN         NaN  ...  0.742876  -0.241718   \n3         NaN         NaN         NaN         NaN  ...  0.741368  -0.267824   \n4         NaN         NaN         NaN         NaN  ...  0.728519  -0.250245   \n\n   0.950988  0.822807  -0.283198  0.937251  0.890155  -0.296596  0.999937  \\\n0  0.951143  0.822932  -0.263647  0.934151  0.895668  -0.269432  0.999861   \n1  0.951872  0.845179  -0.284633  0.938503  0.924152  -0.300916  0.996894   \n2  0.948013  0.838737  -0.263649  0.933489  0.914503  -0.280654  0.996504   \n3  0.943366  0.842407  -0.287155  0.930886  0.921025  -0.303665  0.999569   \n4  0.943573  0.827772  -0.260406  0.931738  0.903029  -0.270045  0.999608   \n\n   Unnamed: 129  \n0           NaN  \n1           NaN  \n2           NaN  \n3           NaN  \n4           NaN  \n\n[5 rows x 130 columns]",
      "text/html": "<div>\n<style scoped>\n    .dataframe tbody tr th:only-of-type {\n        vertical-align: middle;\n    }\n\n    .dataframe tbody tr th {\n        vertical-align: top;\n    }\n\n    .dataframe thead th {\n        text-align: right;\n    }\n</style>\n<table border=\"1\" class=\"dataframe\">\n  <thead>\n    <tr style=\"text-align: right;\">\n      <th></th>\n      <th>0.457555</th>\n      <th>Unnamed: 1</th>\n      <th>Unnamed: 2</th>\n      <th>Unnamed: 3</th>\n      <th>Unnamed: 4</th>\n      <th>Unnamed: 5</th>\n      <th>Unnamed: 6</th>\n      <th>Unnamed: 7</th>\n      <th>Unnamed: 8</th>\n      <th>Unnamed: 9</th>\n      <th>...</th>\n      <th>0.736559</th>\n      <th>-0.256245</th>\n      <th>0.950988</th>\n      <th>0.822807</th>\n      <th>-0.283198</th>\n      <th>0.937251</th>\n      <th>0.890155</th>\n      <th>-0.296596</th>\n      <th>0.999937</th>\n      <th>Unnamed: 129</th>\n    </tr>\n  </thead>\n  <tbody>\n    <tr>\n      <th>0</th>\n      <td>0.530661</td>\n      <td>NaN</td>\n      <td>NaN</td>\n      <td>NaN</td>\n      <td>NaN</td>\n      <td>NaN</td>\n      <td>NaN</td>\n      <td>NaN</td>\n      <td>NaN</td>\n      <td>NaN</td>\n      <td>...</td>\n      <td>0.727248</td>\n      <td>-0.246744</td>\n      <td>0.951143</td>\n      <td>0.822932</td>\n      <td>-0.263647</td>\n      <td>0.934151</td>\n      <td>0.895668</td>\n      <td>-0.269432</td>\n      <td>0.999861</td>\n      <td>NaN</td>\n    </tr>\n    <tr>\n      <th>1</th>\n      <td>0.584577</td>\n      <td>NaN</td>\n      <td>NaN</td>\n      <td>NaN</td>\n      <td>NaN</td>\n      <td>NaN</td>\n      <td>NaN</td>\n      <td>NaN</td>\n      <td>NaN</td>\n      <td>NaN</td>\n      <td>...</td>\n      <td>0.742769</td>\n      <td>-0.262422</td>\n      <td>0.951872</td>\n      <td>0.845179</td>\n      <td>-0.284633</td>\n      <td>0.938503</td>\n      <td>0.924152</td>\n      <td>-0.300916</td>\n      <td>0.996894</td>\n      <td>NaN</td>\n    </tr>\n    <tr>\n      <th>2</th>\n      <td>0.652668</td>\n      <td>NaN</td>\n      <td>NaN</td>\n      <td>NaN</td>\n      <td>NaN</td>\n      <td>NaN</td>\n      <td>NaN</td>\n      <td>NaN</td>\n      <td>NaN</td>\n      <td>NaN</td>\n      <td>...</td>\n      <td>0.742876</td>\n      <td>-0.241718</td>\n      <td>0.948013</td>\n      <td>0.838737</td>\n      <td>-0.263649</td>\n      <td>0.933489</td>\n      <td>0.914503</td>\n      <td>-0.280654</td>\n      <td>0.996504</td>\n      <td>NaN</td>\n    </tr>\n    <tr>\n      <th>3</th>\n      <td>0.720136</td>\n      <td>NaN</td>\n      <td>NaN</td>\n      <td>NaN</td>\n      <td>NaN</td>\n      <td>NaN</td>\n      <td>NaN</td>\n      <td>NaN</td>\n      <td>NaN</td>\n      <td>NaN</td>\n      <td>...</td>\n      <td>0.741368</td>\n      <td>-0.267824</td>\n      <td>0.943366</td>\n      <td>0.842407</td>\n      <td>-0.287155</td>\n      <td>0.930886</td>\n      <td>0.921025</td>\n      <td>-0.303665</td>\n      <td>0.999569</td>\n      <td>NaN</td>\n    </tr>\n    <tr>\n      <th>4</th>\n      <td>0.784263</td>\n      <td>NaN</td>\n      <td>NaN</td>\n      <td>NaN</td>\n      <td>NaN</td>\n      <td>NaN</td>\n      <td>NaN</td>\n      <td>NaN</td>\n      <td>NaN</td>\n      <td>NaN</td>\n      <td>...</td>\n      <td>0.728519</td>\n      <td>-0.250245</td>\n      <td>0.943573</td>\n      <td>0.827772</td>\n      <td>-0.260406</td>\n      <td>0.931738</td>\n      <td>0.903029</td>\n      <td>-0.270045</td>\n      <td>0.999608</td>\n      <td>NaN</td>\n    </tr>\n  </tbody>\n</table>\n<p>5 rows × 130 columns</p>\n</div>"
     },
     "execution_count": 14,
     "metadata": {},
     "output_type": "execute_result"
    }
   ],
   "source": [
    "df.head()"
   ],
   "metadata": {
    "collapsed": false,
    "pycharm": {
     "name": "#%%\n"
    }
   }
  },
  {
   "cell_type": "code",
   "execution_count": null,
   "outputs": [],
   "source": [],
   "metadata": {
    "collapsed": false,
    "pycharm": {
     "name": "#%%\n"
    }
   }
  }
 ],
 "metadata": {
  "kernelspec": {
   "display_name": "Python 3",
   "language": "python",
   "name": "python3"
  },
  "language_info": {
   "codemirror_mode": {
    "name": "ipython",
    "version": 2
   },
   "file_extension": ".py",
   "mimetype": "text/x-python",
   "name": "python",
   "nbconvert_exporter": "python",
   "pygments_lexer": "ipython2",
   "version": "2.7.6"
  }
 },
 "nbformat": 4,
 "nbformat_minor": 0
}