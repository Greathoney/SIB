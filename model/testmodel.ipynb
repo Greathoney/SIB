{
 "metadata": {
  "language_info": {
   "codemirror_mode": {
    "name": "ipython",
    "version": 3
   },
   "file_extension": ".py",
   "mimetype": "text/x-python",
   "name": "python",
   "nbconvert_exporter": "python",
   "pygments_lexer": "ipython3",
   "version": "3.8.5"
  },
  "orig_nbformat": 2,
  "kernelspec": {
   "name": "python3",
   "display_name": "Python 3.8.5 64-bit ('base': conda)",
   "metadata": {
    "interpreter": {
     "hash": "473d2ffff894da414e963825591ebdb0153d9bcc3c5189813cd89a5276f1dce6"
    }
   }
  }
 },
 "nbformat": 4,
 "nbformat_minor": 2,
 "cells": [
  {
   "cell_type": "code",
   "execution_count": 8,
   "metadata": {},
   "outputs": [],
   "source": [
    "import numpy as np\n",
    "import pandas as pd\n",
    "import matplotlib.pyplot as plt\n",
    "from sklearn.preprocessing import MinMaxScaler\n",
    "from keras.models import Sequential\n",
    "from keras.layers import Dense\n",
    "from keras.layers import LSTM\n",
    "from keras.layers import Dropout"
   ]
  },
  {
   "cell_type": "code",
   "execution_count": 9,
   "metadata": {},
   "outputs": [],
   "source": [
    "file_path = \"/home/hwang/SIB/visualization/example_log.csv\"\n",
    "\n",
    "x_names = ['L%d%c' % (i, c) for i in range(21) for c in ['x', 'y', 'z']]\n",
    "y_names = ['a', 's', 'd', 'f']\n",
    "\n",
    "col_names = x_names + y_names\n",
    "\n",
    "df = pd.read_csv(file_path,names=col_names)"
   ]
  },
  {
   "cell_type": "code",
   "execution_count": 28,
   "metadata": {},
   "outputs": [],
   "source": [
    "df = df.iloc[df.index[:340]]"
   ]
  },
  {
   "source": [
    "sc = MinMaxScaler(feature_range = (0,1))\n",
    "df_scaled = sc.fit_transform(df)\n",
    "df_scaled"
   ],
   "cell_type": "code",
   "metadata": {},
   "execution_count": 24,
   "outputs": [
    {
     "output_type": "execute_result",
     "data": {
      "text/plain": [
       "array([[0.9773865 , 0.48264537, 0.66350711, ..., 0.        , 0.        ,\n",
       "        0.        ],\n",
       "       [0.97664268, 0.46100489, 0.62559242, ..., 0.        , 0.        ,\n",
       "        0.        ],\n",
       "       [0.97953231, 0.44260776, 0.61137441, ..., 0.        , 0.        ,\n",
       "        0.        ],\n",
       "       ...,\n",
       "       [0.97706892, 0.41704256, 0.56398104, ..., 0.        , 0.        ,\n",
       "        0.        ],\n",
       "       [0.97679312, 0.42243905, 0.52606635, ..., 0.        , 0.        ,\n",
       "        0.        ],\n",
       "       [0.97688714, 0.42869408, 0.51184834, ..., 0.        , 0.        ,\n",
       "        0.        ]])"
      ]
     },
     "metadata": {},
     "execution_count": 24
    }
   ]
  },
  {
   "cell_type": "code",
   "execution_count": 30,
   "metadata": {},
   "outputs": [
    {
     "output_type": "execute_result",
     "data": {
      "text/plain": [
       "          L0x       L0y       L0z       L1x       L1y       L1z       L2x  \\\n",
       "0    0.977387  0.482645  0.663507  0.859815  0.273842  0.734275  0.751205   \n",
       "1    0.976643  0.461005  0.625592  0.864300  0.265484  0.709555  0.752918   \n",
       "2    0.979532  0.442608  0.611374  0.864034  0.210331  0.701706  0.748142   \n",
       "3    0.986826  0.421717  0.549763  0.866674  0.225364  0.735886  0.746080   \n",
       "4    0.990951  0.341805  0.454976  0.869337  0.178093  0.785121  0.745613   \n",
       "..        ...       ...       ...       ...       ...       ...       ...   \n",
       "335  0.973270  0.464807  0.592417  0.854904  0.222433  0.614628  0.739330   \n",
       "336  0.977315  0.448917  0.554502  0.857139  0.207319  0.669442  0.740275   \n",
       "337  0.977069  0.417043  0.563981  0.857144  0.184972  0.687837  0.738968   \n",
       "338  0.976793  0.422439  0.526066  0.857325  0.195935  0.691550  0.739729   \n",
       "339  0.976887  0.428694  0.511848  0.858014  0.185162  0.689363  0.740184   \n",
       "\n",
       "          L2y       L2z       L3x  ...      L19x      L19y      L19z  \\\n",
       "0    0.150610  0.747431  0.679417  ...  0.938187  0.691574  0.325477   \n",
       "1    0.162779  0.666041  0.676973  ...  0.935635  0.794586  0.445040   \n",
       "2    0.138802  0.650297  0.669050  ...  0.940826  0.838495  0.449399   \n",
       "3    0.143002  0.669159  0.665157  ...  0.940283  0.822196  0.441814   \n",
       "4    0.132046  0.736706  0.660913  ...  0.940167  0.825678  0.453722   \n",
       "..        ...       ...       ...  ...       ...       ...       ...   \n",
       "335  0.111662  0.566200  0.669456  ...  0.936384  0.821358  0.487385   \n",
       "336  0.116178  0.627328  0.667329  ...  0.933648  0.871951  0.541254   \n",
       "337  0.109200  0.648831  0.666801  ...  0.934392  0.860001  0.548366   \n",
       "338  0.109539  0.638872  0.667181  ...  0.933494  0.865777  0.519245   \n",
       "339  0.103728  0.653362  0.667530  ...  0.933389  0.863792  0.540843   \n",
       "\n",
       "         L20x      L20y      L20z    a    s    d    f  \n",
       "0    0.923961  0.827116  0.337402  0.0  0.0  0.0  0.0  \n",
       "1    0.914209  0.870596  0.481228  0.0  0.0  0.0  0.0  \n",
       "2    0.916208  0.895024  0.485492  0.0  0.0  0.0  0.0  \n",
       "3    0.915513  0.870974  0.482587  0.0  0.0  0.0  0.0  \n",
       "4    0.915471  0.871775  0.486911  0.0  0.0  0.0  0.0  \n",
       "..        ...       ...       ...  ...  ...  ...  ...  \n",
       "335  0.911585  0.860683  0.526249  0.0  0.0  0.0  0.0  \n",
       "336  0.907266  0.892124  0.579688  0.0  0.0  0.0  0.0  \n",
       "337  0.909907  0.878375  0.583535  0.0  0.0  0.0  0.0  \n",
       "338  0.908999  0.890711  0.551946  0.0  0.0  0.0  0.0  \n",
       "339  0.908131  0.885407  0.576948  0.0  0.0  0.0  0.0  \n",
       "\n",
       "[340 rows x 67 columns]"
      ],
      "text/html": "<div>\n<style scoped>\n    .dataframe tbody tr th:only-of-type {\n        vertical-align: middle;\n    }\n\n    .dataframe tbody tr th {\n        vertical-align: top;\n    }\n\n    .dataframe thead tr th {\n        text-align: left;\n    }\n</style>\n<table border=\"1\" class=\"dataframe\">\n  <thead>\n    <tr>\n      <th></th>\n      <th>L0x</th>\n      <th>L0y</th>\n      <th>L0z</th>\n      <th>L1x</th>\n      <th>L1y</th>\n      <th>L1z</th>\n      <th>L2x</th>\n      <th>L2y</th>\n      <th>L2z</th>\n      <th>L3x</th>\n      <th>...</th>\n      <th>L19x</th>\n      <th>L19y</th>\n      <th>L19z</th>\n      <th>L20x</th>\n      <th>L20y</th>\n      <th>L20z</th>\n      <th>a</th>\n      <th>s</th>\n      <th>d</th>\n      <th>f</th>\n    </tr>\n  </thead>\n  <tbody>\n    <tr>\n      <th>0</th>\n      <td>0.977387</td>\n      <td>0.482645</td>\n      <td>0.663507</td>\n      <td>0.859815</td>\n      <td>0.273842</td>\n      <td>0.734275</td>\n      <td>0.751205</td>\n      <td>0.150610</td>\n      <td>0.747431</td>\n      <td>0.679417</td>\n      <td>...</td>\n      <td>0.938187</td>\n      <td>0.691574</td>\n      <td>0.325477</td>\n      <td>0.923961</td>\n      <td>0.827116</td>\n      <td>0.337402</td>\n      <td>0.0</td>\n      <td>0.0</td>\n      <td>0.0</td>\n      <td>0.0</td>\n    </tr>\n    <tr>\n      <th>1</th>\n      <td>0.976643</td>\n      <td>0.461005</td>\n      <td>0.625592</td>\n      <td>0.864300</td>\n      <td>0.265484</td>\n      <td>0.709555</td>\n      <td>0.752918</td>\n      <td>0.162779</td>\n      <td>0.666041</td>\n      <td>0.676973</td>\n      <td>...</td>\n      <td>0.935635</td>\n      <td>0.794586</td>\n      <td>0.445040</td>\n      <td>0.914209</td>\n      <td>0.870596</td>\n      <td>0.481228</td>\n      <td>0.0</td>\n      <td>0.0</td>\n      <td>0.0</td>\n      <td>0.0</td>\n    </tr>\n    <tr>\n      <th>2</th>\n      <td>0.979532</td>\n      <td>0.442608</td>\n      <td>0.611374</td>\n      <td>0.864034</td>\n      <td>0.210331</td>\n      <td>0.701706</td>\n      <td>0.748142</td>\n      <td>0.138802</td>\n      <td>0.650297</td>\n      <td>0.669050</td>\n      <td>...</td>\n      <td>0.940826</td>\n      <td>0.838495</td>\n      <td>0.449399</td>\n      <td>0.916208</td>\n      <td>0.895024</td>\n      <td>0.485492</td>\n      <td>0.0</td>\n      <td>0.0</td>\n      <td>0.0</td>\n      <td>0.0</td>\n    </tr>\n    <tr>\n      <th>3</th>\n      <td>0.986826</td>\n      <td>0.421717</td>\n      <td>0.549763</td>\n      <td>0.866674</td>\n      <td>0.225364</td>\n      <td>0.735886</td>\n      <td>0.746080</td>\n      <td>0.143002</td>\n      <td>0.669159</td>\n      <td>0.665157</td>\n      <td>...</td>\n      <td>0.940283</td>\n      <td>0.822196</td>\n      <td>0.441814</td>\n      <td>0.915513</td>\n      <td>0.870974</td>\n      <td>0.482587</td>\n      <td>0.0</td>\n      <td>0.0</td>\n      <td>0.0</td>\n      <td>0.0</td>\n    </tr>\n    <tr>\n      <th>4</th>\n      <td>0.990951</td>\n      <td>0.341805</td>\n      <td>0.454976</td>\n      <td>0.869337</td>\n      <td>0.178093</td>\n      <td>0.785121</td>\n      <td>0.745613</td>\n      <td>0.132046</td>\n      <td>0.736706</td>\n      <td>0.660913</td>\n      <td>...</td>\n      <td>0.940167</td>\n      <td>0.825678</td>\n      <td>0.453722</td>\n      <td>0.915471</td>\n      <td>0.871775</td>\n      <td>0.486911</td>\n      <td>0.0</td>\n      <td>0.0</td>\n      <td>0.0</td>\n      <td>0.0</td>\n    </tr>\n    <tr>\n      <th>...</th>\n      <td>...</td>\n      <td>...</td>\n      <td>...</td>\n      <td>...</td>\n      <td>...</td>\n      <td>...</td>\n      <td>...</td>\n      <td>...</td>\n      <td>...</td>\n      <td>...</td>\n      <td>...</td>\n      <td>...</td>\n      <td>...</td>\n      <td>...</td>\n      <td>...</td>\n      <td>...</td>\n      <td>...</td>\n      <td>...</td>\n      <td>...</td>\n      <td>...</td>\n      <td>...</td>\n    </tr>\n    <tr>\n      <th>335</th>\n      <td>0.973270</td>\n      <td>0.464807</td>\n      <td>0.592417</td>\n      <td>0.854904</td>\n      <td>0.222433</td>\n      <td>0.614628</td>\n      <td>0.739330</td>\n      <td>0.111662</td>\n      <td>0.566200</td>\n      <td>0.669456</td>\n      <td>...</td>\n      <td>0.936384</td>\n      <td>0.821358</td>\n      <td>0.487385</td>\n      <td>0.911585</td>\n      <td>0.860683</td>\n      <td>0.526249</td>\n      <td>0.0</td>\n      <td>0.0</td>\n      <td>0.0</td>\n      <td>0.0</td>\n    </tr>\n    <tr>\n      <th>336</th>\n      <td>0.977315</td>\n      <td>0.448917</td>\n      <td>0.554502</td>\n      <td>0.857139</td>\n      <td>0.207319</td>\n      <td>0.669442</td>\n      <td>0.740275</td>\n      <td>0.116178</td>\n      <td>0.627328</td>\n      <td>0.667329</td>\n      <td>...</td>\n      <td>0.933648</td>\n      <td>0.871951</td>\n      <td>0.541254</td>\n      <td>0.907266</td>\n      <td>0.892124</td>\n      <td>0.579688</td>\n      <td>0.0</td>\n      <td>0.0</td>\n      <td>0.0</td>\n      <td>0.0</td>\n    </tr>\n    <tr>\n      <th>337</th>\n      <td>0.977069</td>\n      <td>0.417043</td>\n      <td>0.563981</td>\n      <td>0.857144</td>\n      <td>0.184972</td>\n      <td>0.687837</td>\n      <td>0.738968</td>\n      <td>0.109200</td>\n      <td>0.648831</td>\n      <td>0.666801</td>\n      <td>...</td>\n      <td>0.934392</td>\n      <td>0.860001</td>\n      <td>0.548366</td>\n      <td>0.909907</td>\n      <td>0.878375</td>\n      <td>0.583535</td>\n      <td>0.0</td>\n      <td>0.0</td>\n      <td>0.0</td>\n      <td>0.0</td>\n    </tr>\n    <tr>\n      <th>338</th>\n      <td>0.976793</td>\n      <td>0.422439</td>\n      <td>0.526066</td>\n      <td>0.857325</td>\n      <td>0.195935</td>\n      <td>0.691550</td>\n      <td>0.739729</td>\n      <td>0.109539</td>\n      <td>0.638872</td>\n      <td>0.667181</td>\n      <td>...</td>\n      <td>0.933494</td>\n      <td>0.865777</td>\n      <td>0.519245</td>\n      <td>0.908999</td>\n      <td>0.890711</td>\n      <td>0.551946</td>\n      <td>0.0</td>\n      <td>0.0</td>\n      <td>0.0</td>\n      <td>0.0</td>\n    </tr>\n    <tr>\n      <th>339</th>\n      <td>0.976887</td>\n      <td>0.428694</td>\n      <td>0.511848</td>\n      <td>0.858014</td>\n      <td>0.185162</td>\n      <td>0.689363</td>\n      <td>0.740184</td>\n      <td>0.103728</td>\n      <td>0.653362</td>\n      <td>0.667530</td>\n      <td>...</td>\n      <td>0.933389</td>\n      <td>0.863792</td>\n      <td>0.540843</td>\n      <td>0.908131</td>\n      <td>0.885407</td>\n      <td>0.576948</td>\n      <td>0.0</td>\n      <td>0.0</td>\n      <td>0.0</td>\n      <td>0.0</td>\n    </tr>\n  </tbody>\n</table>\n<p>340 rows × 67 columns</p>\n</div>"
     },
     "metadata": {},
     "execution_count": 30
    }
   ],
   "source": [
    "new_df_scaled = pd.DataFrame(df_scaled,columns=[col_names])\n",
    "new_df_scaled"
   ]
  },
  {
   "cell_type": "code",
   "execution_count": null,
   "metadata": {},
   "outputs": [],
   "source": []
  },
  {
   "cell_type": "code",
   "execution_count": 20,
   "metadata": {},
   "outputs": [],
   "source": [
    "# #Creating Data with Timesteps\n",
    "# x_train = []\n",
    "# y_train = []\n",
    "# for i in range(60,340):\n",
    "#     x_train.append(new_df_scaled[i-60:i,0])\n",
    "#     y_train.append(new_df_scaled[i,0])\n",
    "# x_train, y_train = np.array(x_train), np.array(y_train)\n",
    "# x_train = np.reshape(x_train, (x_train.shape[0],x_train.shape[1],1))"
   ]
  }
 ]
}