{
 "metadata": {
  "language_info": {
   "codemirror_mode": {
    "name": "ipython",
    "version": 3
   },
   "file_extension": ".py",
   "mimetype": "text/x-python",
   "name": "python",
   "nbconvert_exporter": "python",
   "pygments_lexer": "ipython3",
   "version": "3.8.5"
  },
  "orig_nbformat": 2,
  "kernelspec": {
   "name": "python3",
   "display_name": "Python 3.8.5 64-bit ('base': conda)",
   "metadata": {
    "interpreter": {
     "hash": "473d2ffff894da414e963825591ebdb0153d9bcc3c5189813cd89a5276f1dce6"
    }
   }
  }
 },
 "nbformat": 4,
 "nbformat_minor": 2,
 "cells": [
  {
   "cell_type": "code",
   "execution_count": 12,
   "metadata": {},
   "outputs": [],
   "source": [
    "import numpy as np\n",
    "import pandas as pd\n",
    "import matplotlib.pyplot as plt\n",
    "from sklearn.preprocessing import MinMaxScaler\n",
    "from keras.models import Sequential\n",
    "from keras.layers import Dense, LSTM, Dropout"
   ]
  },
  {
   "cell_type": "code",
   "execution_count": 13,
   "metadata": {},
   "outputs": [
    {
     "output_type": "execute_result",
     "data": {
      "text/plain": [
       "        L0x       L0y       L0z       L1x       L1y       L1z       L2x  \\\n",
       "0  0.791001  0.033868 -0.000051  0.687616  0.102485 -0.040095  0.623654   \n",
       "1  0.796948  0.022000 -0.000071  0.698906  0.100945 -0.030365  0.642395   \n",
       "2  0.798276  0.033748 -0.000126  0.702303  0.100440 -0.040609  0.645481   \n",
       "3  0.802211  0.033865 -0.000099  0.706085  0.096787 -0.038722  0.649883   \n",
       "4  0.803565  0.035517 -0.000097  0.710019  0.095915 -0.036353  0.654658   \n",
       "\n",
       "        L2y       L2z       L3x  ...      L19x      L19y      L19z      L20x  \\\n",
       "0  0.185545 -0.108957  0.591199  ...  0.838261  0.437036 -0.282023  0.808288   \n",
       "1  0.186335 -0.095864  0.613788  ...  0.852577  0.421846 -0.189610  0.823863   \n",
       "2  0.188683 -0.114899  0.619026  ...  0.859913  0.426788 -0.223007  0.828177   \n",
       "3  0.186026 -0.110250  0.624283  ...  0.858692  0.426736 -0.222145  0.824583   \n",
       "4  0.184940 -0.108181  0.628483  ...  0.859844  0.427331 -0.235441  0.826368   \n",
       "\n",
       "       L20y      L20z  a  s  d  f  \n",
       "0  0.486684 -0.293963  0  0  0  0  \n",
       "1  0.451457 -0.170014  0  0  0  0  \n",
       "2  0.463538 -0.206136  0  0  0  0  \n",
       "3  0.463081 -0.203622  0  0  0  0  \n",
       "4  0.466471 -0.216050  0  0  0  0  \n",
       "\n",
       "[5 rows x 67 columns]"
      ],
      "text/html": "<div>\n<style scoped>\n    .dataframe tbody tr th:only-of-type {\n        vertical-align: middle;\n    }\n\n    .dataframe tbody tr th {\n        vertical-align: top;\n    }\n\n    .dataframe thead th {\n        text-align: right;\n    }\n</style>\n<table border=\"1\" class=\"dataframe\">\n  <thead>\n    <tr style=\"text-align: right;\">\n      <th></th>\n      <th>L0x</th>\n      <th>L0y</th>\n      <th>L0z</th>\n      <th>L1x</th>\n      <th>L1y</th>\n      <th>L1z</th>\n      <th>L2x</th>\n      <th>L2y</th>\n      <th>L2z</th>\n      <th>L3x</th>\n      <th>...</th>\n      <th>L19x</th>\n      <th>L19y</th>\n      <th>L19z</th>\n      <th>L20x</th>\n      <th>L20y</th>\n      <th>L20z</th>\n      <th>a</th>\n      <th>s</th>\n      <th>d</th>\n      <th>f</th>\n    </tr>\n  </thead>\n  <tbody>\n    <tr>\n      <th>0</th>\n      <td>0.791001</td>\n      <td>0.033868</td>\n      <td>-0.000051</td>\n      <td>0.687616</td>\n      <td>0.102485</td>\n      <td>-0.040095</td>\n      <td>0.623654</td>\n      <td>0.185545</td>\n      <td>-0.108957</td>\n      <td>0.591199</td>\n      <td>...</td>\n      <td>0.838261</td>\n      <td>0.437036</td>\n      <td>-0.282023</td>\n      <td>0.808288</td>\n      <td>0.486684</td>\n      <td>-0.293963</td>\n      <td>0</td>\n      <td>0</td>\n      <td>0</td>\n      <td>0</td>\n    </tr>\n    <tr>\n      <th>1</th>\n      <td>0.796948</td>\n      <td>0.022000</td>\n      <td>-0.000071</td>\n      <td>0.698906</td>\n      <td>0.100945</td>\n      <td>-0.030365</td>\n      <td>0.642395</td>\n      <td>0.186335</td>\n      <td>-0.095864</td>\n      <td>0.613788</td>\n      <td>...</td>\n      <td>0.852577</td>\n      <td>0.421846</td>\n      <td>-0.189610</td>\n      <td>0.823863</td>\n      <td>0.451457</td>\n      <td>-0.170014</td>\n      <td>0</td>\n      <td>0</td>\n      <td>0</td>\n      <td>0</td>\n    </tr>\n    <tr>\n      <th>2</th>\n      <td>0.798276</td>\n      <td>0.033748</td>\n      <td>-0.000126</td>\n      <td>0.702303</td>\n      <td>0.100440</td>\n      <td>-0.040609</td>\n      <td>0.645481</td>\n      <td>0.188683</td>\n      <td>-0.114899</td>\n      <td>0.619026</td>\n      <td>...</td>\n      <td>0.859913</td>\n      <td>0.426788</td>\n      <td>-0.223007</td>\n      <td>0.828177</td>\n      <td>0.463538</td>\n      <td>-0.206136</td>\n      <td>0</td>\n      <td>0</td>\n      <td>0</td>\n      <td>0</td>\n    </tr>\n    <tr>\n      <th>3</th>\n      <td>0.802211</td>\n      <td>0.033865</td>\n      <td>-0.000099</td>\n      <td>0.706085</td>\n      <td>0.096787</td>\n      <td>-0.038722</td>\n      <td>0.649883</td>\n      <td>0.186026</td>\n      <td>-0.110250</td>\n      <td>0.624283</td>\n      <td>...</td>\n      <td>0.858692</td>\n      <td>0.426736</td>\n      <td>-0.222145</td>\n      <td>0.824583</td>\n      <td>0.463081</td>\n      <td>-0.203622</td>\n      <td>0</td>\n      <td>0</td>\n      <td>0</td>\n      <td>0</td>\n    </tr>\n    <tr>\n      <th>4</th>\n      <td>0.803565</td>\n      <td>0.035517</td>\n      <td>-0.000097</td>\n      <td>0.710019</td>\n      <td>0.095915</td>\n      <td>-0.036353</td>\n      <td>0.654658</td>\n      <td>0.184940</td>\n      <td>-0.108181</td>\n      <td>0.628483</td>\n      <td>...</td>\n      <td>0.859844</td>\n      <td>0.427331</td>\n      <td>-0.235441</td>\n      <td>0.826368</td>\n      <td>0.466471</td>\n      <td>-0.216050</td>\n      <td>0</td>\n      <td>0</td>\n      <td>0</td>\n      <td>0</td>\n    </tr>\n  </tbody>\n</table>\n<p>5 rows × 67 columns</p>\n</div>"
     },
     "metadata": {},
     "execution_count": 13
    }
   ],
   "source": [
    "x_names = ['L%d%c' % (i, c) for i in range(21) for c in ['x', 'y', 'z']] \n",
    "y_names = ['a', 's', 'd', 'f']\n",
    "\n",
    "col_names = x_names + y_names\n",
    "\n",
    "df = pd.read_csv(\"asdf_single_log_long.csv\", names=col_names)\n",
    "df.head()"
   ]
  },
  {
   "cell_type": "code",
   "execution_count": 16,
   "metadata": {},
   "outputs": [
    {
     "output_type": "stream",
     "name": "stderr",
     "text": [
      "/home/hwang/anaconda3/lib/python3.8/site-packages/pandas/core/indexing.py:670: SettingWithCopyWarning: \nA value is trying to be set on a copy of a slice from a DataFrame\n\nSee the caveats in the documentation: https://pandas.pydata.org/pandas-docs/stable/user_guide/indexing.html#returning-a-view-versus-a-copy\n  iloc._setitem_with_indexer(indexer, value)\n"
     ]
    },
    {
     "output_type": "execute_result",
     "data": {
      "text/plain": [
       "        L0x       L0y       L0z       L1x       L1y       L1z       L2x  \\\n",
       "0  0.737364  0.221747  0.453483  1.000000  0.357942  0.339171  1.000000   \n",
       "1  0.713798  0.240094  0.474062  0.980274  0.359788  0.316313  0.977577   \n",
       "2  0.680256  0.243948  0.555347  0.950668  0.362608  0.312949  0.946977   \n",
       "3  0.632896  0.241788  0.617701  0.915634  0.369705  0.312708  0.913062   \n",
       "4  0.582774  0.235255  0.661204  0.877377  0.378252  0.308064  0.877667   \n",
       "\n",
       "        L2y       L2z       L3x  ...      L19x      L19y      L19z      L20x  \\\n",
       "0  0.346217  0.421042  1.000000  ...  0.678504  0.023605  0.693132  0.751137   \n",
       "1  0.345321  0.400997  0.976262  ...  0.668882  0.038651  0.636550  0.742417   \n",
       "2  0.341583  0.406085  0.942272  ...  0.652406  0.051812  0.589100  0.729538   \n",
       "3  0.340433  0.412290  0.904505  ...  0.636919  0.062239  0.552001  0.719234   \n",
       "4  0.341631  0.414736  0.867007  ...  0.623492  0.069425  0.532706  0.710507   \n",
       "\n",
       "       L20y      L20z  a  s  d  f  \n",
       "0  0.001070  0.656640  0  0  0  0  \n",
       "1  0.037296  0.591268  0  0  0  0  \n",
       "2  0.068345  0.531872  0  0  0  0  \n",
       "3  0.093031  0.482805  0  0  0  0  \n",
       "4  0.107990  0.451862  0  0  0  0  \n",
       "\n",
       "[5 rows x 67 columns]"
      ],
      "text/html": "<div>\n<style scoped>\n    .dataframe tbody tr th:only-of-type {\n        vertical-align: middle;\n    }\n\n    .dataframe tbody tr th {\n        vertical-align: top;\n    }\n\n    .dataframe thead th {\n        text-align: right;\n    }\n</style>\n<table border=\"1\" class=\"dataframe\">\n  <thead>\n    <tr style=\"text-align: right;\">\n      <th></th>\n      <th>L0x</th>\n      <th>L0y</th>\n      <th>L0z</th>\n      <th>L1x</th>\n      <th>L1y</th>\n      <th>L1z</th>\n      <th>L2x</th>\n      <th>L2y</th>\n      <th>L2z</th>\n      <th>L3x</th>\n      <th>...</th>\n      <th>L19x</th>\n      <th>L19y</th>\n      <th>L19z</th>\n      <th>L20x</th>\n      <th>L20y</th>\n      <th>L20z</th>\n      <th>a</th>\n      <th>s</th>\n      <th>d</th>\n      <th>f</th>\n    </tr>\n  </thead>\n  <tbody>\n    <tr>\n      <th>0</th>\n      <td>0.737364</td>\n      <td>0.221747</td>\n      <td>0.453483</td>\n      <td>1.000000</td>\n      <td>0.357942</td>\n      <td>0.339171</td>\n      <td>1.000000</td>\n      <td>0.346217</td>\n      <td>0.421042</td>\n      <td>1.000000</td>\n      <td>...</td>\n      <td>0.678504</td>\n      <td>0.023605</td>\n      <td>0.693132</td>\n      <td>0.751137</td>\n      <td>0.001070</td>\n      <td>0.656640</td>\n      <td>0</td>\n      <td>0</td>\n      <td>0</td>\n      <td>0</td>\n    </tr>\n    <tr>\n      <th>1</th>\n      <td>0.713798</td>\n      <td>0.240094</td>\n      <td>0.474062</td>\n      <td>0.980274</td>\n      <td>0.359788</td>\n      <td>0.316313</td>\n      <td>0.977577</td>\n      <td>0.345321</td>\n      <td>0.400997</td>\n      <td>0.976262</td>\n      <td>...</td>\n      <td>0.668882</td>\n      <td>0.038651</td>\n      <td>0.636550</td>\n      <td>0.742417</td>\n      <td>0.037296</td>\n      <td>0.591268</td>\n      <td>0</td>\n      <td>0</td>\n      <td>0</td>\n      <td>0</td>\n    </tr>\n    <tr>\n      <th>2</th>\n      <td>0.680256</td>\n      <td>0.243948</td>\n      <td>0.555347</td>\n      <td>0.950668</td>\n      <td>0.362608</td>\n      <td>0.312949</td>\n      <td>0.946977</td>\n      <td>0.341583</td>\n      <td>0.406085</td>\n      <td>0.942272</td>\n      <td>...</td>\n      <td>0.652406</td>\n      <td>0.051812</td>\n      <td>0.589100</td>\n      <td>0.729538</td>\n      <td>0.068345</td>\n      <td>0.531872</td>\n      <td>0</td>\n      <td>0</td>\n      <td>0</td>\n      <td>0</td>\n    </tr>\n    <tr>\n      <th>3</th>\n      <td>0.632896</td>\n      <td>0.241788</td>\n      <td>0.617701</td>\n      <td>0.915634</td>\n      <td>0.369705</td>\n      <td>0.312708</td>\n      <td>0.913062</td>\n      <td>0.340433</td>\n      <td>0.412290</td>\n      <td>0.904505</td>\n      <td>...</td>\n      <td>0.636919</td>\n      <td>0.062239</td>\n      <td>0.552001</td>\n      <td>0.719234</td>\n      <td>0.093031</td>\n      <td>0.482805</td>\n      <td>0</td>\n      <td>0</td>\n      <td>0</td>\n      <td>0</td>\n    </tr>\n    <tr>\n      <th>4</th>\n      <td>0.582774</td>\n      <td>0.235255</td>\n      <td>0.661204</td>\n      <td>0.877377</td>\n      <td>0.378252</td>\n      <td>0.308064</td>\n      <td>0.877667</td>\n      <td>0.341631</td>\n      <td>0.414736</td>\n      <td>0.867007</td>\n      <td>...</td>\n      <td>0.623492</td>\n      <td>0.069425</td>\n      <td>0.532706</td>\n      <td>0.710507</td>\n      <td>0.107990</td>\n      <td>0.451862</td>\n      <td>0</td>\n      <td>0</td>\n      <td>0</td>\n      <td>0</td>\n    </tr>\n  </tbody>\n</table>\n<p>5 rows × 67 columns</p>\n</div>"
     },
     "metadata": {},
     "execution_count": 16
    }
   ],
   "source": [
    "def gamma_smoothing(df, gamma=0.4):\n",
    "    \n",
    "    df = df.copy()\n",
    "\n",
    "    for x in x_names:\n",
    "        for row in range(1, len(df)):\n",
    "            df[x].iloc[row] = df[x].iloc[row-1] * (1-gamma) + df[x].iloc[row] * gamma\n",
    "\n",
    "    return df\n",
    "\n",
    "df = gamma_smoothing(df)\n",
    "df.head()"
   ]
  },
  {
   "cell_type": "code",
   "execution_count": 39,
   "metadata": {},
   "outputs": [
    {
     "output_type": "stream",
     "name": "stderr",
     "text": [
      "/home/hwang/anaconda3/lib/python3.8/site-packages/pandas/core/indexing.py:670: SettingWithCopyWarning: \nA value is trying to be set on a copy of a slice from a DataFrame\n\nSee the caveats in the documentation: https://pandas.pydata.org/pandas-docs/stable/user_guide/indexing.html#returning-a-view-versus-a-copy\n  iloc._setitem_with_indexer(indexer, value)\n"
     ]
    }
   ],
   "source": [
    "def MinMaxScaler(data):\n",
    "    data_max = data.min()\n",
    "    data_min = data.max()\n",
    "\n",
    "    for i in range(len(data)):\n",
    "        data[i] = (data[i] - data_min) / (data_max - data_min)\n",
    "    \n",
    "    return data\n",
    "\n",
    "\n",
    "for column in x_names:\n",
    "    df_column = df[column]\n",
    "    df_column = df_column.values.reshape(-1, 1)\n",
    "    df_column = MinMaxScaler(df_column)\n",
    "\n",
    "    for row in range(len(df)):\n",
    "        df[column].iloc[row] = df_column[row]"
   ]
  },
  {
   "cell_type": "code",
   "execution_count": 40,
   "metadata": {},
   "outputs": [],
   "source": [
    "x, y = df[x_names], df[y_names]"
   ]
  },
  {
   "cell_type": "code",
   "execution_count": 55,
   "metadata": {},
   "outputs": [],
   "source": [
    "train_test_ratio = 0.90\n",
    "\n",
    "train_num = int(len(df) * train_test_ratio)\n",
    "\n",
    "x_train, x_test = x[:train_num], x[train_num:]\n",
    "y_train, y_test = y[:train_num], y[train_num:]"
   ]
  },
  {
   "cell_type": "code",
   "execution_count": 56,
   "metadata": {},
   "outputs": [],
   "source": [
    "x_train_t = x_train_numpy.reshape(x_train.shape[0],63,1)\n",
    "x_test_t = x_test_numpy.reshape(x_test.shape[0],63,1)"
   ]
  },
  {
   "cell_type": "code",
   "execution_count": 57,
   "metadata": {},
   "outputs": [
    {
     "output_type": "stream",
     "name": "stdout",
     "text": [
      "Model: \"sequential_7\"\n_________________________________________________________________\nLayer (type)                 Output Shape              Param #   \n=================================================================\nlstm_7 (LSTM)                (None, 50)                10400     \n_________________________________________________________________\ndense_14 (Dense)             (None, 64)                3264      \n_________________________________________________________________\ndense_15 (Dense)             (None, 4)                 260       \n=================================================================\nTotal params: 13,924\nTrainable params: 13,924\nNon-trainable params: 0\n_________________________________________________________________\n"
     ]
    }
   ],
   "source": [
    "model = Sequential()\n",
    "\n",
    "model.add(LSTM(50, input_shape=(63,1)))\n",
    "model.add(Dense(64))\n",
    "model.add(Dense(4))\n",
    "model.compile(loss='mean_squared_error',optimizer='adam',metrics=['accuracy'])\n",
    "\n",
    "model.summary()"
   ]
  },
  {
   "cell_type": "code",
   "execution_count": 58,
   "metadata": {},
   "outputs": [
    {
     "output_type": "stream",
     "name": "stdout",
     "text": [
      "Epoch 1/20\n",
      "126/126 [==============================] - 7s 28ms/step - loss: 0.1647 - accuracy: 0.3353\n",
      "Epoch 2/20\n",
      "126/126 [==============================] - 3s 26ms/step - loss: 0.1354 - accuracy: 0.4835\n",
      "Epoch 3/20\n",
      "126/126 [==============================] - 3s 25ms/step - loss: 0.1134 - accuracy: 0.5994\n",
      "Epoch 4/20\n",
      "126/126 [==============================] - 3s 26ms/step - loss: 0.1002 - accuracy: 0.6572\n",
      "Epoch 5/20\n",
      "126/126 [==============================] - 3s 26ms/step - loss: 0.0828 - accuracy: 0.7130\n",
      "Epoch 6/20\n",
      "126/126 [==============================] - 3s 26ms/step - loss: 0.0699 - accuracy: 0.7718\n",
      "Epoch 7/20\n",
      "126/126 [==============================] - 3s 24ms/step - loss: 0.0575 - accuracy: 0.8082\n",
      "Epoch 8/20\n",
      "126/126 [==============================] - 3s 25ms/step - loss: 0.0528 - accuracy: 0.8271\n",
      "Epoch 9/20\n",
      "126/126 [==============================] - 3s 23ms/step - loss: 0.0512 - accuracy: 0.8215\n",
      "Epoch 10/20\n",
      "126/126 [==============================] - 3s 23ms/step - loss: 0.0486 - accuracy: 0.8306\n",
      "Epoch 11/20\n",
      "126/126 [==============================] - 3s 25ms/step - loss: 0.0477 - accuracy: 0.8297\n",
      "Epoch 12/20\n",
      "126/126 [==============================] - 3s 26ms/step - loss: 0.0431 - accuracy: 0.8415\n",
      "Epoch 13/20\n",
      "126/126 [==============================] - 3s 23ms/step - loss: 0.0410 - accuracy: 0.8511\n",
      "Epoch 14/20\n",
      "126/126 [==============================] - 3s 24ms/step - loss: 0.0394 - accuracy: 0.8567\n",
      "Epoch 15/20\n",
      "126/126 [==============================] - 3s 23ms/step - loss: 0.0424 - accuracy: 0.8402\n",
      "Epoch 16/20\n",
      "126/126 [==============================] - 3s 25ms/step - loss: 0.0386 - accuracy: 0.8563\n",
      "Epoch 17/20\n",
      "126/126 [==============================] - 3s 27ms/step - loss: 0.0361 - accuracy: 0.8604\n",
      "Epoch 18/20\n",
      "126/126 [==============================] - 3s 26ms/step - loss: 0.0361 - accuracy: 0.8502\n",
      "Epoch 19/20\n",
      "126/126 [==============================] - 3s 24ms/step - loss: 0.0377 - accuracy: 0.8443\n",
      "Epoch 20/20\n",
      "126/126 [==============================] - 3s 25ms/step - loss: 0.0344 - accuracy: 0.8546\n"
     ]
    },
    {
     "output_type": "execute_result",
     "data": {
      "text/plain": [
       "<keras.callbacks.History at 0x7f1a343f2cd0>"
      ]
     },
     "metadata": {},
     "execution_count": 58
    }
   ],
   "source": [
    "model.fit(x_train_t, y_train, epochs=20)"
   ]
  },
  {
   "cell_type": "code",
   "execution_count": 59,
   "metadata": {},
   "outputs": [
    {
     "output_type": "stream",
     "name": "stdout",
     "text": [
      "14/14 - 1s - loss: 0.0432 - accuracy: 0.8966\n"
     ]
    },
    {
     "output_type": "execute_result",
     "data": {
      "text/plain": [
       "[0.043241456151008606, 0.8966292142868042]"
      ]
     },
     "metadata": {},
     "execution_count": 59
    }
   ],
   "source": [
    "model.evaluate(x_test_t, y_test, verbose=2)"
   ]
  }
 ]
}