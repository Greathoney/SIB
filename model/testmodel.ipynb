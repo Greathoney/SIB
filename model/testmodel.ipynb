{
 "metadata": {
  "language_info": {
   "codemirror_mode": {
    "name": "ipython",
    "version": 3
   },
   "file_extension": ".py",
   "mimetype": "text/x-python",
   "name": "python",
   "nbconvert_exporter": "python",
   "pygments_lexer": "ipython3",
   "version": "3.8.5"
  },
  "orig_nbformat": 2,
  "kernelspec": {
   "name": "python3",
   "display_name": "Python 3.8.5 64-bit ('base': conda)",
   "metadata": {
    "interpreter": {
     "hash": "473d2ffff894da414e963825591ebdb0153d9bcc3c5189813cd89a5276f1dce6"
    }
   }
  }
 },
 "nbformat": 4,
 "nbformat_minor": 2,
 "cells": [
  {
   "cell_type": "code",
   "execution_count": 1,
   "metadata": {},
   "outputs": [],
   "source": [
    "import numpy as np\n",
    "import pandas as pd\n",
    "import matplotlib.pyplot as plt\n",
    "from sklearn.preprocessing import MinMaxScaler\n",
    "from keras.models import Sequential\n",
    "from keras.layers import Dense, LSTM, Dropout"
   ]
  },
  {
   "cell_type": "code",
   "execution_count": 2,
   "metadata": {},
   "outputs": [
    {
     "output_type": "execute_result",
     "data": {
      "text/plain": [
       "        L0x       L0y       L0z       L1x       L1y       L1z       L2x  \\\n",
       "0  0.058545  0.778253  0.546517  0.000000  0.642058  0.404603  0.000000   \n",
       "1  0.071679  0.732387  0.495070  0.017064  0.637444  0.439591  0.024466   \n",
       "2  0.082491  0.750270  0.322724  0.032436  0.633162  0.423748  0.043175   \n",
       "3  0.097669  0.761451  0.288769  0.047376  0.619648  0.421027  0.060146   \n",
       "4  0.109765  0.774545  0.273541  0.062285  0.608927  0.427914  0.076563   \n",
       "\n",
       "        L2y       L2z       L3x  ...      L19y      L19z      L20x      L20y  \\\n",
       "0  0.648604  0.397047  0.000000  ...  0.976395  0.288944  0.248863  0.998969   \n",
       "1  0.650826  0.431415  0.029264  ...  0.938779  0.422136  0.270663  0.911718   \n",
       "2  0.658764  0.402071  0.053609  ...  0.928447  0.453917  0.289781  0.889290   \n",
       "3  0.656053  0.396667  0.075026  ...  0.922120  0.474228  0.296221  0.874701   \n",
       "4  0.651371  0.398856  0.093318  ...  0.919796  0.467251  0.302584  0.874344   \n",
       "\n",
       "       L20z  a  s  d  f  None  \n",
       "0  0.315630  0  0  0  0   1.0  \n",
       "1  0.465863  0  0  0  0   1.0  \n",
       "2  0.512221  0  0  0  0   1.0  \n",
       "3  0.543082  0  0  0  0   1.0  \n",
       "4  0.546536  0  0  0  0   1.0  \n",
       "\n",
       "[5 rows x 68 columns]"
      ],
      "text/html": "<div>\n<style scoped>\n    .dataframe tbody tr th:only-of-type {\n        vertical-align: middle;\n    }\n\n    .dataframe tbody tr th {\n        vertical-align: top;\n    }\n\n    .dataframe thead th {\n        text-align: right;\n    }\n</style>\n<table border=\"1\" class=\"dataframe\">\n  <thead>\n    <tr style=\"text-align: right;\">\n      <th></th>\n      <th>L0x</th>\n      <th>L0y</th>\n      <th>L0z</th>\n      <th>L1x</th>\n      <th>L1y</th>\n      <th>L1z</th>\n      <th>L2x</th>\n      <th>L2y</th>\n      <th>L2z</th>\n      <th>L3x</th>\n      <th>...</th>\n      <th>L19y</th>\n      <th>L19z</th>\n      <th>L20x</th>\n      <th>L20y</th>\n      <th>L20z</th>\n      <th>a</th>\n      <th>s</th>\n      <th>d</th>\n      <th>f</th>\n      <th>None</th>\n    </tr>\n  </thead>\n  <tbody>\n    <tr>\n      <th>0</th>\n      <td>0.058545</td>\n      <td>0.778253</td>\n      <td>0.546517</td>\n      <td>0.000000</td>\n      <td>0.642058</td>\n      <td>0.404603</td>\n      <td>0.000000</td>\n      <td>0.648604</td>\n      <td>0.397047</td>\n      <td>0.000000</td>\n      <td>...</td>\n      <td>0.976395</td>\n      <td>0.288944</td>\n      <td>0.248863</td>\n      <td>0.998969</td>\n      <td>0.315630</td>\n      <td>0</td>\n      <td>0</td>\n      <td>0</td>\n      <td>0</td>\n      <td>1.0</td>\n    </tr>\n    <tr>\n      <th>1</th>\n      <td>0.071679</td>\n      <td>0.732387</td>\n      <td>0.495070</td>\n      <td>0.017064</td>\n      <td>0.637444</td>\n      <td>0.439591</td>\n      <td>0.024466</td>\n      <td>0.650826</td>\n      <td>0.431415</td>\n      <td>0.029264</td>\n      <td>...</td>\n      <td>0.938779</td>\n      <td>0.422136</td>\n      <td>0.270663</td>\n      <td>0.911718</td>\n      <td>0.465863</td>\n      <td>0</td>\n      <td>0</td>\n      <td>0</td>\n      <td>0</td>\n      <td>1.0</td>\n    </tr>\n    <tr>\n      <th>2</th>\n      <td>0.082491</td>\n      <td>0.750270</td>\n      <td>0.322724</td>\n      <td>0.032436</td>\n      <td>0.633162</td>\n      <td>0.423748</td>\n      <td>0.043175</td>\n      <td>0.658764</td>\n      <td>0.402071</td>\n      <td>0.053609</td>\n      <td>...</td>\n      <td>0.928447</td>\n      <td>0.453917</td>\n      <td>0.289781</td>\n      <td>0.889290</td>\n      <td>0.512221</td>\n      <td>0</td>\n      <td>0</td>\n      <td>0</td>\n      <td>0</td>\n      <td>1.0</td>\n    </tr>\n    <tr>\n      <th>3</th>\n      <td>0.097669</td>\n      <td>0.761451</td>\n      <td>0.288769</td>\n      <td>0.047376</td>\n      <td>0.619648</td>\n      <td>0.421027</td>\n      <td>0.060146</td>\n      <td>0.656053</td>\n      <td>0.396667</td>\n      <td>0.075026</td>\n      <td>...</td>\n      <td>0.922120</td>\n      <td>0.474228</td>\n      <td>0.296221</td>\n      <td>0.874701</td>\n      <td>0.543082</td>\n      <td>0</td>\n      <td>0</td>\n      <td>0</td>\n      <td>0</td>\n      <td>1.0</td>\n    </tr>\n    <tr>\n      <th>4</th>\n      <td>0.109765</td>\n      <td>0.774545</td>\n      <td>0.273541</td>\n      <td>0.062285</td>\n      <td>0.608927</td>\n      <td>0.427914</td>\n      <td>0.076563</td>\n      <td>0.651371</td>\n      <td>0.398856</td>\n      <td>0.093318</td>\n      <td>...</td>\n      <td>0.919796</td>\n      <td>0.467251</td>\n      <td>0.302584</td>\n      <td>0.874344</td>\n      <td>0.546536</td>\n      <td>0</td>\n      <td>0</td>\n      <td>0</td>\n      <td>0</td>\n      <td>1.0</td>\n    </tr>\n  </tbody>\n</table>\n<p>5 rows × 68 columns</p>\n</div>"
     },
     "metadata": {},
     "execution_count": 2
    }
   ],
   "source": [
    "x_names = ['L%d%c' % (i, c) for i in range(21) for c in ['x', 'y', 'z']] \n",
    "y_names = ['a', 's', 'd', 'f','None']\n",
    "\n",
    "col_names = x_names + y_names\n",
    "\n",
    "df = pd.read_csv(\"asdf_single_log_long_preprocessing.csv\", names=col_names)\n",
    "df.head()"
   ]
  },
  {
   "cell_type": "code",
   "execution_count": 3,
   "metadata": {},
   "outputs": [
    {
     "output_type": "stream",
     "name": "stderr",
     "text": [
      "/home/hwang/anaconda3/lib/python3.8/site-packages/pandas/core/indexing.py:670: SettingWithCopyWarning: \nA value is trying to be set on a copy of a slice from a DataFrame\n\nSee the caveats in the documentation: https://pandas.pydata.org/pandas-docs/stable/user_guide/indexing.html#returning-a-view-versus-a-copy\n  iloc._setitem_with_indexer(indexer, value)\n"
     ]
    }
   ],
   "source": [
    "y_names_origin = ['a', 's', 'd', 'f']\n",
    "\n",
    "for row in range(len(df)):\n",
    "    df['None'].iloc[row] = 1\n",
    "    for value in df[y_names_origin].iloc[row]:\n",
    "        if value == 1:\n",
    "            df['None'].iloc[row] = 0\n",
    "            break"
   ]
  },
  {
   "cell_type": "code",
   "execution_count": 4,
   "metadata": {},
   "outputs": [],
   "source": [
    "# def gamma_smoothing(df, gamma=0.4):\n",
    "    \n",
    "#     df = df.copy()\n",
    "\n",
    "#     for x in x_names:\n",
    "#         for row in range(1, len(df)):\n",
    "#             df[x].iloc[row] = df[x].iloc[row-1] * (1-gamma) + df[x].iloc[row] * gamma\n",
    "\n",
    "#     return df\n",
    "\n",
    "# df = gamma_smoothing(df)\n",
    "# df.head()"
   ]
  },
  {
   "cell_type": "code",
   "execution_count": 5,
   "metadata": {},
   "outputs": [],
   "source": [
    "# def MinMaxScaler(data):\n",
    "#     data_max = data.min()\n",
    "#     data_min = data.max()\n",
    "\n",
    "#     for i in range(len(data)):\n",
    "#         data[i] = (data[i] - data_min) / (data_max - data_min)\n",
    "    \n",
    "#     return data\n",
    "\n",
    "\n",
    "# for column in x_names:\n",
    "#     df_column = df[column]\n",
    "#     df_column = df_column.values.reshape(-1, 1)\n",
    "#     df_column = MinMaxScaler(df_column)\n",
    "\n",
    "#     for row in range(len(df)):\n",
    "#         df[column].iloc[row] = df_column[row]"
   ]
  },
  {
   "cell_type": "code",
   "execution_count": 6,
   "metadata": {},
   "outputs": [],
   "source": [
    "x, y = df[x_names], df[y_names]"
   ]
  },
  {
   "cell_type": "code",
   "execution_count": 13,
   "metadata": {},
   "outputs": [],
   "source": [
    "train_test_ratio = 0.90\n",
    "\n",
    "train_num = int(len(df) * train_test_ratio)\n",
    "\n",
    "x_train, x_test = x[:train_num], x[train_num:]\n",
    "y_train, y_test = y[:train_num], y[train_num:]\n",
    "\n",
    "x_train_numpy = x_train.to_numpy()\n",
    "x_test_numpy = x_test.to_numpy()\n",
    "y_train_numpy = y_train.to_numpy()\n",
    "y_test_numpy = y_test.to_numpy()"
   ]
  },
  {
   "cell_type": "code",
   "execution_count": 16,
   "metadata": {},
   "outputs": [],
   "source": [
    "x_train_t = x_train_numpy.reshape(x_train_numpy.shape[0],63,1)\n",
    "x_test_t = x_test_numpy.reshape(x_test_numpy.shape[0],63,1)"
   ]
  },
  {
   "cell_type": "code",
   "execution_count": 17,
   "metadata": {},
   "outputs": [
    {
     "output_type": "stream",
     "name": "stdout",
     "text": [
      "Model: \"sequential\"\n_________________________________________________________________\nLayer (type)                 Output Shape              Param #   \n=================================================================\nlstm (LSTM)                  (None, 50)                10400     \n_________________________________________________________________\ndense (Dense)                (None, 64)                3264      \n_________________________________________________________________\ndense_1 (Dense)              (None, 5)                 325       \n=================================================================\nTotal params: 13,989\nTrainable params: 13,989\nNon-trainable params: 0\n_________________________________________________________________\n"
     ]
    }
   ],
   "source": [
    "model = Sequential()\n",
    "\n",
    "model.add(LSTM(50, input_shape=(63,1)))\n",
    "model.add(Dense(64))\n",
    "model.add(Dense(5))\n",
    "model.compile(loss='mean_squared_error',optimizer='adam',metrics=['accuracy'])\n",
    "model.summary()"
   ]
  },
  {
   "cell_type": "code",
   "execution_count": 18,
   "metadata": {},
   "outputs": [
    {
     "output_type": "stream",
     "name": "stdout",
     "text": [
      "Epoch 1/20\n",
      "127/127 [==============================] - 32s 42ms/step - loss: 0.1615 - accuracy: 0.2544\n",
      "Epoch 2/20\n",
      "127/127 [==============================] - 6s 47ms/step - loss: 0.1354 - accuracy: 0.4692\n",
      "Epoch 3/20\n",
      "127/127 [==============================] - 6s 47ms/step - loss: 0.1252 - accuracy: 0.5272\n",
      "Epoch 4/20\n",
      "127/127 [==============================] - 6s 44ms/step - loss: 0.1144 - accuracy: 0.6220\n",
      "Epoch 5/20\n",
      "127/127 [==============================] - 6s 44ms/step - loss: 0.1020 - accuracy: 0.6571\n",
      "Epoch 6/20\n",
      "127/127 [==============================] - 5s 38ms/step - loss: 0.0999 - accuracy: 0.6632\n",
      "Epoch 7/20\n",
      "127/127 [==============================] - 5s 36ms/step - loss: 0.0954 - accuracy: 0.6790\n",
      "Epoch 8/20\n",
      "127/127 [==============================] - 6s 44ms/step - loss: 0.0928 - accuracy: 0.6863\n",
      "Epoch 9/20\n",
      "127/127 [==============================] - 5s 36ms/step - loss: 0.0903 - accuracy: 0.6977\n",
      "Epoch 10/20\n",
      "127/127 [==============================] - 5s 37ms/step - loss: 0.0836 - accuracy: 0.7340\n",
      "Epoch 11/20\n",
      "127/127 [==============================] - 5s 38ms/step - loss: 0.0813 - accuracy: 0.7530\n",
      "Epoch 12/20\n",
      "127/127 [==============================] - 5s 36ms/step - loss: 0.0772 - accuracy: 0.7822\n",
      "Epoch 13/20\n",
      "127/127 [==============================] - 4s 35ms/step - loss: 0.0704 - accuracy: 0.7951\n",
      "Epoch 14/20\n",
      "127/127 [==============================] - 4s 32ms/step - loss: 0.0639 - accuracy: 0.8304\n",
      "Epoch 15/20\n",
      "127/127 [==============================] - 4s 32ms/step - loss: 0.0589 - accuracy: 0.8470\n",
      "Epoch 16/20\n",
      "127/127 [==============================] - 4s 33ms/step - loss: 0.0564 - accuracy: 0.8556\n",
      "Epoch 17/20\n",
      "127/127 [==============================] - 5s 38ms/step - loss: 0.0580 - accuracy: 0.8475\n",
      "Epoch 18/20\n",
      "127/127 [==============================] - 5s 41ms/step - loss: 0.0528 - accuracy: 0.8637\n",
      "Epoch 19/20\n",
      "127/127 [==============================] - 4s 32ms/step - loss: 0.0501 - accuracy: 0.8758\n",
      "Epoch 20/20\n",
      "127/127 [==============================] - 5s 36ms/step - loss: 0.0519 - accuracy: 0.8654\n"
     ]
    },
    {
     "output_type": "execute_result",
     "data": {
      "text/plain": [
       "<keras.callbacks.History at 0x7f7b543f1e80>"
      ]
     },
     "metadata": {},
     "execution_count": 18
    }
   ],
   "source": [
    "model.fit(x_train_t, y_train, epochs=20)"
   ]
  },
  {
   "cell_type": "code",
   "execution_count": 19,
   "metadata": {},
   "outputs": [
    {
     "output_type": "stream",
     "name": "stdout",
     "text": [
      "15/15 - 1s - loss: 0.0470 - accuracy: 0.9091\n"
     ]
    },
    {
     "output_type": "execute_result",
     "data": {
      "text/plain": [
       "[0.046967457979917526, 0.9090909361839294]"
      ]
     },
     "metadata": {},
     "execution_count": 19
    }
   ],
   "source": [
    "model.evaluate(x_test_t, y_test, verbose=2)"
   ]
  }
 ]
}